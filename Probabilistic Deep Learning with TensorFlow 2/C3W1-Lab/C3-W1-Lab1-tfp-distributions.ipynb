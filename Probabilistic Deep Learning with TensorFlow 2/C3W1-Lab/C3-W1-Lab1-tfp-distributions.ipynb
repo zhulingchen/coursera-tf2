{
 "cells": [
  {
   "cell_type": "code",
   "execution_count": 1,
   "metadata": {},
   "outputs": [
    {
     "name": "stdout",
     "output_type": "stream",
     "text": [
      "TF version: 2.1.0\n",
      "TFP version: 0.9.0\n"
     ]
    }
   ],
   "source": [
    "import tensorflow as tf\n",
    "import tensorflow_probability as tfp\n",
    "tfd = tfp.distributions\n",
    "\n",
    "print(\"TF version:\", tf.__version__)\n",
    "print(\"TFP version:\", tfp.__version__)"
   ]
  },
  {
   "cell_type": "code",
   "execution_count": 2,
   "metadata": {},
   "outputs": [],
   "source": [
    "# Additional imports and setting fixed random seed to have reproducibility\n",
    "\n",
    "import os\n",
    "import matplotlib\n",
    "import matplotlib.pyplot as plt\n",
    "%matplotlib inline\n",
    "import numpy as np\n",
    "tf.random.set_seed(42)"
   ]
  },
  {
   "cell_type": "markdown",
   "metadata": {},
   "source": [
    "# Tensorflow Probability Distributions"
   ]
  },
  {
   "cell_type": "markdown",
   "metadata": {},
   "source": [
    "## Coding Tutorials\n",
    "#### 1. [Univariate Distributions](#univariate_distributions)\n",
    "#### 2. [Multivariate Distributions](#multivariate_distributions)\n",
    "#### 3. [The Independent Distribution](#the_independent_distribution)\n",
    "#### 4. [Sampling and log probs](#sampling_and_log_probs)\n",
    "#### 5. [Trainable Distributions](#trainable_distributions)"
   ]
  },
  {
   "cell_type": "markdown",
   "metadata": {},
   "source": [
    "***\n",
    "## Univariate distributions\n",
    "<a id='univariate_distributions'></a>"
   ]
  },
  {
   "cell_type": "code",
   "execution_count": 3,
   "metadata": {},
   "outputs": [
    {
     "data": {
      "text/plain": [
       "<tfp.distributions.Normal 'Normal' batch_shape=[] event_shape=[] dtype=float32>"
      ]
     },
     "execution_count": 3,
     "metadata": {},
     "output_type": "execute_result"
    }
   ],
   "source": [
    "# Create a normal distribution from Tensorflow Distributions\n",
    "loc = 1\n",
    "scale = 2\n",
    "uni_normal = tfd.Normal(loc=loc, scale=scale)\n",
    "uni_normal"
   ]
  },
  {
   "cell_type": "code",
   "execution_count": 4,
   "metadata": {},
   "outputs": [
    {
     "data": {
      "text/plain": [
       "<tf.Tensor: shape=(), dtype=float32, numpy=1.654937>"
      ]
     },
     "execution_count": 4,
     "metadata": {},
     "output_type": "execute_result"
    }
   ],
   "source": [
    "# Sample from the chosen distribution...\n",
    "\n",
    "uni_normal.sample()"
   ]
  },
  {
   "cell_type": "code",
   "execution_count": 5,
   "metadata": {},
   "outputs": [
    {
     "data": {
      "text/plain": [
       "<tf.Tensor: shape=(10,), dtype=float32, numpy=\n",
       "array([ 1.1684492 , -0.7218075 ,  1.7562461 ,  0.98960745,  0.01093608,\n",
       "        2.2356384 ,  0.33835906,  0.99723184,  0.1525318 , -1.7744174 ],\n",
       "      dtype=float32)>"
      ]
     },
     "execution_count": 5,
     "metadata": {},
     "output_type": "execute_result"
    }
   ],
   "source": [
    "# ... or sample multiple times\n",
    "\n",
    "n_samples = 10\n",
    "uni_normal.sample(n_samples)"
   ]
  },
  {
   "cell_type": "code",
   "execution_count": 6,
   "metadata": {},
   "outputs": [
    {
     "data": {
      "text/plain": [
       "<tf.Tensor: shape=(), dtype=float32, numpy=0.17603266>"
      ]
     },
     "execution_count": 6,
     "metadata": {},
     "output_type": "execute_result"
    }
   ],
   "source": [
    "# Obtain value of probability's density\n",
    "\n",
    "pdf_x = 0\n",
    "uni_normal.prob(pdf_x)"
   ]
  },
  {
   "cell_type": "code",
   "execution_count": 7,
   "metadata": {},
   "outputs": [],
   "source": [
    "# Compare with the PDF of the Gaussian distribution\n",
    "\n",
    "def my_gaussian(loc=0, scale=1, use_log=False):\n",
    "    pdf_value = 1 / (np.sqrt(2*np.pi) * scale) * np.exp(-0.5 * ((pdf_x - loc) / scale) ** 2)\n",
    "    return np.log(pdf_value) if use_log else pdf_value"
   ]
  },
  {
   "cell_type": "code",
   "execution_count": 8,
   "metadata": {},
   "outputs": [
    {
     "data": {
      "text/plain": [
       "0.17603266338214976"
      ]
     },
     "execution_count": 8,
     "metadata": {},
     "output_type": "execute_result"
    }
   ],
   "source": [
    "normal_pdf_y_numpy = my_gaussian(loc, scale, use_log=False)\n",
    "normal_pdf_y_numpy"
   ]
  },
  {
   "cell_type": "code",
   "execution_count": 9,
   "metadata": {},
   "outputs": [
    {
     "data": {
      "text/plain": [
       "<tf.Tensor: shape=(), dtype=float32, numpy=-1.7370857>"
      ]
     },
     "execution_count": 9,
     "metadata": {},
     "output_type": "execute_result"
    }
   ],
   "source": [
    "# Obtain value of logprobability\n",
    "\n",
    "uni_normal.log_prob(pdf_x)"
   ]
  },
  {
   "cell_type": "code",
   "execution_count": 10,
   "metadata": {},
   "outputs": [
    {
     "data": {
      "text/plain": [
       "-1.7370857137646178"
      ]
     },
     "execution_count": 10,
     "metadata": {},
     "output_type": "execute_result"
    }
   ],
   "source": [
    "# Verify that this really is the log of the probability\n",
    "\n",
    "normal_log_pdf_y_numpy = my_gaussian(loc, scale, use_log=True)\n",
    "normal_log_pdf_y_numpy"
   ]
  },
  {
   "cell_type": "code",
   "execution_count": 11,
   "metadata": {},
   "outputs": [
    {
     "data": {
      "text/plain": [
       "(array([0.00107796, 0.00107796, 0.00143728, 0.00251523, 0.00287455,\n",
       "        0.00503046, 0.01042026, 0.01221684, 0.01545071, 0.01652867,\n",
       "        0.03162006, 0.04778941, 0.03952511, 0.0614435 , 0.07761291,\n",
       "        0.09737541, 0.09917201, 0.11031092, 0.13474458, 0.15810032,\n",
       "        0.16313078, 0.1710358 , 0.19511017, 0.19475087, 0.19439151,\n",
       "        0.19978129, 0.19978129, 0.17498836, 0.18397118, 0.15306997,\n",
       "        0.14516482, 0.12683956, 0.11641931, 0.09234495, 0.07940947,\n",
       "        0.06395876, 0.04707081, 0.04275891, 0.03090145, 0.02766753,\n",
       "        0.016888  , 0.01796596, 0.01113888, 0.00718638, 0.00467114,\n",
       "        0.0017966 , 0.00251523, 0.00071864, 0.00035932, 0.00107796]),\n",
       " array([-5.869788  , -5.591484  , -5.3131795 , -5.0348754 , -4.756571  ,\n",
       "        -4.4782667 , -4.199962  , -3.921658  , -3.6433537 , -3.3650494 ,\n",
       "        -3.086745  , -2.8084407 , -2.5301363 , -2.2518322 , -1.9735278 ,\n",
       "        -1.6952236 , -1.4169192 , -1.1386149 , -0.8603106 , -0.5820063 ,\n",
       "        -0.30370197, -0.02539766,  0.25290665,  0.53121096,  0.80951524,\n",
       "         1.0878196 ,  1.3661239 ,  1.6444283 ,  1.9227325 ,  2.201037  ,\n",
       "         2.479341  ,  2.7576454 ,  3.0359497 ,  3.314254  ,  3.5925584 ,\n",
       "         3.8708627 ,  4.149167  ,  4.427471  ,  4.7057757 ,  4.98408   ,\n",
       "         5.2623844 ,  5.5406885 ,  5.8189926 ,  6.097297  ,  6.3756013 ,\n",
       "         6.653906  ,  6.93221   ,  7.2105145 ,  7.4888186 ,  7.767123  ,\n",
       "         8.045427  ], dtype=float32),\n",
       " <BarContainer object of 50 artists>)"
      ]
     },
     "execution_count": 11,
     "metadata": {},
     "output_type": "execute_result"
    },
    {
     "data": {
      "image/png": "[encoded data removed]",
      "text/plain": [
       "<Figure size 432x288 with 1 Axes>"
      ]
     },
     "metadata": {
      "needs_background": "light"
     },
     "output_type": "display_data"
    }
   ],
   "source": [
    "# Plot a histogram, approximating the density\n",
    "\n",
    "plt.hist(uni_normal.sample(10000).numpy(), bins=50, density=True)"
   ]
  },
  {
   "cell_type": "code",
   "execution_count": 12,
   "metadata": {},
   "outputs": [
    {
     "data": {
      "text/plain": [
       "<tfp.distributions.Exponential 'Exponential' batch_shape=[] event_shape=[] dtype=float32>"
      ]
     },
     "execution_count": 12,
     "metadata": {},
     "output_type": "execute_result"
    }
   ],
   "source": [
    "# Do the same for the exponential distribution\n",
    "\n",
    "rate = 1\n",
    "exponential = tfd.Exponential(rate=rate)\n",
    "exponential"
   ]
  },
  {
   "cell_type": "code",
   "execution_count": 13,
   "metadata": {},
   "outputs": [
    {
     "data": {
      "text/plain": [
       "(array([9.07953851e-01, 7.51345794e-01, 5.86814116e-01, 4.43722826e-01,\n",
       "        3.96181095e-01, 3.18809258e-01, 2.43301802e-01, 1.95760070e-01,\n",
       "        1.60802915e-01, 1.30972809e-01, 1.05337562e-01, 8.06345052e-02,\n",
       "        6.10584982e-02, 4.94061130e-02, 4.38129682e-02, 4.10163957e-02,\n",
       "        2.88979152e-02, 2.05081979e-02, 1.39828466e-02, 9.78801440e-03,\n",
       "        1.39828466e-02, 1.02541103e-02, 1.07201824e-02, 6.52534293e-03,\n",
       "        7.92361310e-03, 3.26267147e-03, 3.72875910e-03, 1.86438370e-03,\n",
       "        9.32189776e-04, 1.86438370e-03, 2.79656933e-03, 1.39828777e-03,\n",
       "        9.32189776e-04, 4.66095924e-04, 1.86437955e-03, 0.00000000e+00,\n",
       "        0.00000000e+00, 0.00000000e+00, 4.66095924e-04, 1.39828156e-03,\n",
       "        0.00000000e+00, 0.00000000e+00, 0.00000000e+00, 0.00000000e+00,\n",
       "        0.00000000e+00, 0.00000000e+00, 0.00000000e+00, 0.00000000e+00,\n",
       "        0.00000000e+00, 4.66095924e-04]),\n",
       " array([3.1948599e-05, 2.1458030e-01, 4.2912865e-01, 6.4367700e-01,\n",
       "        8.5822535e-01, 1.0727737e+00, 1.2873220e+00, 1.5018704e+00,\n",
       "        1.7164187e+00, 1.9309671e+00, 2.1455154e+00, 2.3600638e+00,\n",
       "        2.5746121e+00, 2.7891605e+00, 3.0037088e+00, 3.2182572e+00,\n",
       "        3.4328055e+00, 3.6473539e+00, 3.8619022e+00, 4.0764508e+00,\n",
       "        4.2909989e+00, 4.5055475e+00, 4.7200956e+00, 4.9346442e+00,\n",
       "        5.1491923e+00, 5.3637409e+00, 5.5782890e+00, 5.7928376e+00,\n",
       "        6.0073857e+00, 6.2219343e+00, 6.4364824e+00, 6.6510310e+00,\n",
       "        6.8655791e+00, 7.0801277e+00, 7.2946758e+00, 7.5092244e+00,\n",
       "        7.7237725e+00, 7.9383211e+00, 8.1528692e+00, 8.3674173e+00,\n",
       "        8.5819664e+00, 8.7965145e+00, 9.0110626e+00, 9.2256107e+00,\n",
       "        9.4401598e+00, 9.6547079e+00, 9.8692560e+00, 1.0083804e+01,\n",
       "        1.0298353e+01, 1.0512901e+01, 1.0727449e+01], dtype=float32),\n",
       " <BarContainer object of 50 artists>)"
      ]
     },
     "execution_count": 13,
     "metadata": {},
     "output_type": "execute_result"
    },
    {
     "data": {
      "image/png": "[encoded data removed]",
      "text/plain": [
       "<Figure size 432x288 with 1 Axes>"
      ]
     },
     "metadata": {
      "needs_background": "light"
     },
     "output_type": "display_data"
    }
   ],
   "source": [
    "# Sample as before\n",
    "\n",
    "plt.hist(exponential.sample(10000).numpy(), bins=50, density=True)"
   ]
  },
  {
   "cell_type": "code",
   "execution_count": 14,
   "metadata": {},
   "outputs": [
    {
     "data": {
      "text/plain": [
       "<tfp.distributions.Bernoulli 'Bernoulli' batch_shape=[] event_shape=[] dtype=int32>"
      ]
     },
     "execution_count": 14,
     "metadata": {},
     "output_type": "execute_result"
    }
   ],
   "source": [
    "# Create a Bernoulli distribution (discrete)\n",
    "\n",
    "prob = 0.7\n",
    "bernoulli = tfd.Bernoulli(probs=prob)\n",
    "bernoulli"
   ]
  },
  {
   "cell_type": "code",
   "execution_count": 15,
   "metadata": {},
   "outputs": [
    {
     "data": {
      "text/plain": [
       "<tf.Tensor: shape=(10000,), dtype=int32, numpy=array([0, 1, 1, ..., 0, 1, 1])>"
      ]
     },
     "execution_count": 15,
     "metadata": {},
     "output_type": "execute_result"
    }
   ],
   "source": [
    "bernoulli_samples = bernoulli.sample(10000)\n",
    "bernoulli_samples"
   ]
  },
  {
   "cell_type": "code",
   "execution_count": 16,
   "metadata": {},
   "outputs": [
    {
     "data": {
      "text/plain": [
       "0.7083"
      ]
     },
     "execution_count": 16,
     "metadata": {},
     "output_type": "execute_result"
    }
   ],
   "source": [
    "sum(bernoulli_samples.numpy() > 0) / len(bernoulli_samples)"
   ]
  },
  {
   "cell_type": "markdown",
   "metadata": {},
   "source": [
    "#### A word of caution on discrete distributions"
   ]
  },
  {
   "cell_type": "code",
   "execution_count": 17,
   "metadata": {},
   "outputs": [
    {
     "name": "stdout",
     "output_type": "stream",
     "text": [
      "prob result 0.30000001192092896 for k = 0 \n",
      "prob result 0.4582575857639313 for k = 0.5 \n",
      "prob result 0.6999999284744263 for k = 1 \n",
      "prob result 0.12857142090797424 for k = -1 \n"
     ]
    }
   ],
   "source": [
    "# Calculate Bernoulli prob and see that 0.5 and -1 do not give the correct probability!\n",
    "\n",
    "for k in [0, 0.5, 1, -1]:\n",
    "    print('prob result {} for k = {} '.format(bernoulli.prob(k), k))"
   ]
  },
  {
   "cell_type": "code",
   "execution_count": 18,
   "metadata": {},
   "outputs": [],
   "source": [
    "# Replicate the scores to see what is occurring under the hood\n",
    "\n",
    "def my_bernoulli(p_success, k):\n",
    "    return np.power(p_success,k)*np.power((1-p_success),(1-k))"
   ]
  },
  {
   "cell_type": "code",
   "execution_count": 19,
   "metadata": {},
   "outputs": [
    {
     "name": "stdout",
     "output_type": "stream",
     "text": [
      "prob result 0.30000000000000004 for k = 0 \n",
      "prob result 0.45825756949558405 for k = 0.5 \n",
      "prob result 0.7 for k = 1 \n",
      "prob result 0.12857142857142861 for k = -1 \n"
     ]
    }
   ],
   "source": [
    "# Evaluate it as before\n",
    "\n",
    "for k in [0, 0.5, 1, -1]:\n",
    "    print('prob result {} for k = {} '.format(my_bernoulli(prob, k), k))"
   ]
  },
  {
   "cell_type": "markdown",
   "metadata": {},
   "source": [
    "#### Work with batch distributions"
   ]
  },
  {
   "cell_type": "code",
   "execution_count": 20,
   "metadata": {},
   "outputs": [
    {
     "data": {
      "text/plain": [
       "<tfp.distributions.Bernoulli 'Bernoulli' batch_shape=[5] event_shape=[] dtype=int32>"
      ]
     },
     "execution_count": 20,
     "metadata": {},
     "output_type": "execute_result"
    }
   ],
   "source": [
    "# Create a batched Bernoulli distribution\n",
    "\n",
    "bernoulli_batch = tfd.Bernoulli(probs=[0.1, 0.25, 0.5, 0.75, 0.9])\n",
    "bernoulli_batch"
   ]
  },
  {
   "cell_type": "code",
   "execution_count": 21,
   "metadata": {},
   "outputs": [
    {
     "data": {
      "text/plain": [
       "<tf.Tensor: shape=(10, 5), dtype=int32, numpy=\n",
       "array([[0, 1, 1, 1, 1],\n",
       "       [0, 1, 1, 1, 1],\n",
       "       [0, 1, 1, 0, 1],\n",
       "       [0, 0, 0, 0, 1],\n",
       "       [0, 0, 0, 1, 0],\n",
       "       [0, 0, 0, 1, 1],\n",
       "       [0, 0, 0, 1, 1],\n",
       "       [0, 0, 1, 1, 1],\n",
       "       [0, 0, 1, 1, 1],\n",
       "       [0, 0, 0, 1, 1]])>"
      ]
     },
     "execution_count": 21,
     "metadata": {},
     "output_type": "execute_result"
    }
   ],
   "source": [
    "# Sample from it, noting the shape\n",
    "\n",
    "n_samples = 10\n",
    "bernoulli_batch.sample(n_samples)"
   ]
  },
  {
   "cell_type": "code",
   "execution_count": 22,
   "metadata": {},
   "outputs": [
    {
     "data": {
      "text/plain": [
       "<tfp.distributions.Bernoulli 'Bernoulli' batch_shape=[1, 3, 2] event_shape=[] dtype=int32>"
      ]
     },
     "execution_count": 22,
     "metadata": {},
     "output_type": "execute_result"
    }
   ],
   "source": [
    "# Use a batch shape with higher rank\n",
    "\n",
    "probs = [[[0.5, 0.5], \n",
    "          [0.8, 0.3], \n",
    "          [0.25, 0.75]]]\n",
    "bernoulli_batch_3d = tfd.Bernoulli(probs=probs)\n",
    "bernoulli_batch_3d"
   ]
  },
  {
   "cell_type": "code",
   "execution_count": 23,
   "metadata": {},
   "outputs": [
    {
     "data": {
      "text/plain": [
       "<tf.Tensor: shape=(10, 1, 3, 2), dtype=int32, numpy=\n",
       "array([[[[1, 0],\n",
       "         [1, 1],\n",
       "         [0, 1]]],\n",
       "\n",
       "\n",
       "       [[[0, 1],\n",
       "         [1, 1],\n",
       "         [0, 1]]],\n",
       "\n",
       "\n",
       "       [[[0, 0],\n",
       "         [1, 1],\n",
       "         [1, 0]]],\n",
       "\n",
       "\n",
       "       [[[1, 0],\n",
       "         [1, 0],\n",
       "         [0, 0]]],\n",
       "\n",
       "\n",
       "       [[[1, 0],\n",
       "         [1, 0],\n",
       "         [0, 1]]],\n",
       "\n",
       "\n",
       "       [[[0, 1],\n",
       "         [1, 1],\n",
       "         [0, 1]]],\n",
       "\n",
       "\n",
       "       [[[1, 0],\n",
       "         [0, 1],\n",
       "         [1, 0]]],\n",
       "\n",
       "\n",
       "       [[[0, 0],\n",
       "         [1, 0],\n",
       "         [0, 1]]],\n",
       "\n",
       "\n",
       "       [[[0, 1],\n",
       "         [1, 1],\n",
       "         [0, 1]]],\n",
       "\n",
       "\n",
       "       [[[1, 0],\n",
       "         [1, 0],\n",
       "         [0, 0]]]])>"
      ]
     },
     "execution_count": 23,
     "metadata": {},
     "output_type": "execute_result"
    }
   ],
   "source": [
    "# Sample from this batch of distributions\n",
    "\n",
    "n_samples = 10\n",
    "bernoulli_batch_3d.sample(n_samples)"
   ]
  },
  {
   "cell_type": "code",
   "execution_count": 24,
   "metadata": {},
   "outputs": [
    {
     "data": {
      "text/plain": [
       "<tf.Tensor: shape=(1, 3, 2), dtype=float32, numpy=\n",
       "array([[[0.5      , 0.5      ],\n",
       "        [0.2      , 0.6999999],\n",
       "        [0.25     , 0.75     ]]], dtype=float32)>"
      ]
     },
     "execution_count": 24,
     "metadata": {},
     "output_type": "execute_result"
    }
   ],
   "source": [
    "# Determine probabilities from this batch distribution\n",
    "\n",
    "bernoulli_batch_3d.prob([[[1, 0], \n",
    "                         [0, 0], \n",
    "                         [1, 1]]])"
   ]
  },
  {
   "cell_type": "markdown",
   "metadata": {},
   "source": [
    "***\n",
    "<a id='multivariate_distributions'></a>\n",
    "## Multivariate Distributions\n"
   ]
  },
  {
   "cell_type": "markdown",
   "metadata": {},
   "source": [
    "#### Basic multivariate distributions"
   ]
  },
  {
   "cell_type": "code",
   "execution_count": 25,
   "metadata": {},
   "outputs": [
    {
     "data": {
      "text/plain": [
       "<tfp.distributions.MultivariateNormalDiag 'MultivariateNormalDiag' batch_shape=[] event_shape=[2] dtype=float32>"
      ]
     },
     "execution_count": 25,
     "metadata": {},
     "output_type": "execute_result"
    }
   ],
   "source": [
    "# Define 2D multivariate Gaussian with diagonal covariance matrix\n",
    "\n",
    "locs = [1, 3]\n",
    "scales_diag = [2, 1]\n",
    "multi_normal_diag = tfd.MultivariateNormalDiag(loc=locs, scale_diag=scales_diag)\n",
    "multi_normal_diag"
   ]
  },
  {
   "cell_type": "code",
   "execution_count": 26,
   "metadata": {},
   "outputs": [
    {
     "data": {
      "text/plain": [
       "<tf.Tensor: shape=(10, 2), dtype=float32, numpy=\n",
       "array([[ 3.288419  ,  1.3910213 ],\n",
       "       [-1.694444  ,  2.3830664 ],\n",
       "       [ 2.6909313 ,  3.1574626 ],\n",
       "       [ 0.49496585,  3.9559474 ],\n",
       "       [ 3.9159768 ,  2.7126741 ],\n",
       "       [ 2.8516407 ,  3.4794748 ],\n",
       "       [ 0.8085401 ,  3.1609654 ],\n",
       "       [ 2.4466426 ,  2.9423585 ],\n",
       "       [ 0.8609709 ,  3.452149  ],\n",
       "       [ 2.634784  ,  2.5413036 ]], dtype=float32)>"
      ]
     },
     "execution_count": 26,
     "metadata": {},
     "output_type": "execute_result"
    }
   ],
   "source": [
    "# Sample from it\n",
    "\n",
    "n_samples = 10\n",
    "multi_normal_diag.sample(n_samples)"
   ]
  },
  {
   "cell_type": "code",
   "execution_count": 27,
   "metadata": {},
   "outputs": [
    {
     "data": {
      "text/plain": [
       "Text(0, 0.5, 'x2')"
      ]
     },
     "execution_count": 27,
     "metadata": {},
     "output_type": "execute_result"
    },
    {
     "data": {
      "image/png": "[encoded data removed]",
      "text/plain": [
       "<Figure size 432x288 with 1 Axes>"
      ]
     },
     "metadata": {
      "needs_background": "light"
     },
     "output_type": "display_data"
    }
   ],
   "source": [
    "# Make a plot\n",
    "\n",
    "plt_sample = multi_normal_diag.sample(10000)\n",
    "plt.scatter(plt_sample[:, 0], plt_sample[:, 1], marker='.', alpha=0.05)\n",
    "plt.axis('equal')\n",
    "plt.xlabel('x1', fontsize=18)\n",
    "plt.ylabel('x2', fontsize=18)"
   ]
  },
  {
   "cell_type": "markdown",
   "metadata": {},
   "source": [
    "#### Batches of multivariate distributions"
   ]
  },
  {
   "cell_type": "code",
   "execution_count": 28,
   "metadata": {},
   "outputs": [],
   "source": [
    "# Create three \"batches\" of multivariate normals\n",
    "\n",
    "locs = [[0, 0], [5, 0], [5, 5]]\n",
    "scales_diag = [[1, 1], [4, 1], [1, 4]]\n",
    "multi_normal_diag_batch = tfd.MultivariateNormalDiag(loc=locs, scale_diag=scales_diag)"
   ]
  },
  {
   "cell_type": "code",
   "execution_count": 29,
   "metadata": {},
   "outputs": [
    {
     "data": {
      "text/plain": [
       "<tf.Tensor: shape=(10, 3, 2), dtype=float32, numpy=\n",
       "array([[[-1.5440758 ,  1.3154334 ],\n",
       "        [ 8.12323   ,  1.0706282 ],\n",
       "        [ 4.034321  ,  6.0052867 ]],\n",
       "\n",
       "       [[-1.8545105 ,  1.4713811 ],\n",
       "        [ 2.0660353 , -0.344911  ],\n",
       "        [ 4.2337008 , 10.22172   ]],\n",
       "\n",
       "       [[-0.0578156 ,  0.17457157],\n",
       "        [ 5.6911297 , -0.3467844 ],\n",
       "        [ 5.6945953 , 12.057819  ]],\n",
       "\n",
       "       [[ 1.7431762 , -1.2393949 ],\n",
       "        [-1.3699932 , -4.5134735 ],\n",
       "        [ 7.6479917 , 10.809378  ]],\n",
       "\n",
       "       [[ 0.24647596,  1.0909393 ],\n",
       "        [12.980251  , -1.4023894 ],\n",
       "        [ 5.274681  , -0.16955376]],\n",
       "\n",
       "       [[-0.3221189 , -0.23839359],\n",
       "        [-0.5284691 ,  0.02630435],\n",
       "        [ 4.821647  ,  3.5029914 ]],\n",
       "\n",
       "       [[ 0.5566287 , -2.0874217 ],\n",
       "        [-1.3238783 , -0.31384054],\n",
       "        [ 4.7123284 ,  8.283987  ]],\n",
       "\n",
       "       [[ 1.6065929 ,  1.6575363 ],\n",
       "        [ 2.1968822 , -0.8002647 ],\n",
       "        [ 3.3598597 ,  5.814961  ]],\n",
       "\n",
       "       [[-1.1928858 , -0.6602714 ],\n",
       "        [ 5.0389686 ,  0.6254517 ],\n",
       "        [ 3.451652  , -2.1121097 ]],\n",
       "\n",
       "       [[-0.15197533, -0.26457584],\n",
       "        [ 0.49096537,  1.0027379 ],\n",
       "        [ 4.163054  , 10.526249  ]]], dtype=float32)>"
      ]
     },
     "execution_count": 29,
     "metadata": {},
     "output_type": "execute_result"
    }
   ],
   "source": [
    "# Sample from it\n",
    "\n",
    "n_samples = 10\n",
    "multi_normal_diag_batch.sample(n_samples)"
   ]
  },
  {
   "cell_type": "code",
   "execution_count": 30,
   "metadata": {},
   "outputs": [
    {
     "data": {
      "text/plain": [
       "<tf.Tensor: shape=(3,), dtype=float32, numpy=array([-1.837877 , -5.7241716, -8.224172 ], dtype=float32)>"
      ]
     },
     "execution_count": 30,
     "metadata": {},
     "output_type": "execute_result"
    }
   ],
   "source": [
    "# Compute log probs\n",
    "\n",
    "multi_normal_diag_batch.log_prob([[0, 0], [1, 2], [2, 1]])"
   ]
  },
  {
   "cell_type": "code",
   "execution_count": 31,
   "metadata": {},
   "outputs": [],
   "source": [
    "# Create a sample for a plot -- notice the shape\n",
    "\n",
    "plt_sample_batch = multi_normal_diag_batch.sample(10000)"
   ]
  },
  {
   "cell_type": "code",
   "execution_count": 32,
   "metadata": {},
   "outputs": [
    {
     "data": {
      "image/png": "[encoded data removed]",
      "text/plain": [
       "<Figure size 720x216 with 3 Axes>"
      ]
     },
     "metadata": {
      "needs_background": "light"
     },
     "output_type": "display_data"
    }
   ],
   "source": [
    "# Plot samples from the batched multivariate Gaussian\n",
    "\n",
    "fig, axs = (plt.subplots(1, 3, sharex=True, sharey=True, figsize=(10, 3)))\n",
    "titles = ['cov_diag = [{:s}]'.format(','.join(str(d) for d in sd)) for sd in scales_diag]\n",
    "\n",
    "for i, (ax, title) in enumerate(zip(axs, titles)):\n",
    "    samples = plt_sample_batch[:, i, :]  # take the ith batch [samples x event_shape]\n",
    "    ax.scatter(samples[:, 0], samples[:, 1], marker='.', alpha=0.05)\n",
    "    ax.set_title(title)\n",
    "plt.show()"
   ]
  },
  {
   "cell_type": "markdown",
   "metadata": {},
   "source": [
    "\n",
    "\n",
    "***\n",
    "<a id='the_independent_distribution'></a>\n",
    "## The Independent Distribution"
   ]
  },
  {
   "cell_type": "code",
   "execution_count": 33,
   "metadata": {},
   "outputs": [
    {
     "data": {
      "text/plain": [
       "<tfp.distributions.Normal 'Normal' batch_shape=[2] event_shape=[] dtype=float32>"
      ]
     },
     "execution_count": 33,
     "metadata": {},
     "output_type": "execute_result"
    }
   ],
   "source": [
    "# Start by defining a batch of two univariate Gaussians, then\n",
    "# combine them into a bivariate Gaussian with independent components\n",
    "\n",
    "locs = [0, 1]\n",
    "scales = [1, 0.5]\n",
    "batch_of_normals = tfd.Normal(loc=locs, scale=scales)\n",
    "batch_of_normals"
   ]
  },
  {
   "cell_type": "code",
   "execution_count": 34,
   "metadata": {},
   "outputs": [
    {
     "name": "stderr",
     "output_type": "stream",
     "text": [
      "c:\\programdata\\anaconda3\\envs\\dev\\lib\\site-packages\\seaborn\\_decorators.py:43: FutureWarning: Pass the following variables as keyword args: x, y. From version 0.12, the only valid positional argument will be `data`, and passing other arguments without an explicit keyword will result in an error or misinterpretation.\n",
      "  FutureWarning\n",
      "c:\\programdata\\anaconda3\\envs\\dev\\lib\\site-packages\\seaborn\\_decorators.py:43: FutureWarning: Pass the following variables as keyword args: x, y. From version 0.12, the only valid positional argument will be `data`, and passing other arguments without an explicit keyword will result in an error or misinterpretation.\n",
      "  FutureWarning\n"
     ]
    },
    {
     "data": {
      "image/png": "[encoded data removed]",
      "text/plain": [
       "<Figure size 432x288 with 1 Axes>"
      ]
     },
     "metadata": {
      "needs_background": "light"
     },
     "output_type": "display_data"
    }
   ],
   "source": [
    "# Univariate density functions\n",
    "\n",
    "import seaborn as sns\n",
    "\n",
    "t = np.linspace(-4, 4, 10000)\n",
    "densities = batch_of_normals.prob(np.repeat(t[:, np.newaxis], 2, axis=1))  # each column is a vector of densities for one distn\n",
    "\n",
    "sns.lineplot(t, densities[:, 0], label='loc={}, scale={}'.format(locs[0], scales[0]))\n",
    "sns.lineplot(t, densities[:, 1], label='loc={}, scale={}'.format(locs[1], scales[1]))\n",
    "plt.ylabel('Probability density')\n",
    "plt.xlabel('Value')\n",
    "plt.legend()\n",
    "plt.show()"
   ]
  },
  {
   "cell_type": "code",
   "execution_count": 35,
   "metadata": {},
   "outputs": [
    {
     "name": "stdout",
     "output_type": "stream",
     "text": [
      "batch_shape of batch_of_normals is: (2,)\n",
      "event_shape of batch_of_normals is: ()\n"
     ]
    }
   ],
   "source": [
    "# Check their batch_shape and event_shape\n",
    "\n",
    "print('batch_shape of batch_of_normals is:', batch_of_normals.batch_shape)\n",
    "print('event_shape of batch_of_normals is:', batch_of_normals.event_shape)"
   ]
  },
  {
   "cell_type": "code",
   "execution_count": 36,
   "metadata": {},
   "outputs": [
    {
     "data": {
      "text/plain": [
       "<tfp.distributions.Independent 'IndependentNormal' batch_shape=[] event_shape=[2] dtype=float32>"
      ]
     },
     "execution_count": 36,
     "metadata": {},
     "output_type": "execute_result"
    }
   ],
   "source": [
    "# Use Independent to convert the batch shape to the event shape\n",
    "\n",
    "bivariate_normal_from_independent = tfd.Independent(batch_of_normals, reinterpreted_batch_ndims=1)\n",
    "bivariate_normal_from_independent"
   ]
  },
  {
   "cell_type": "code",
   "execution_count": 37,
   "metadata": {},
   "outputs": [
    {
     "name": "stdout",
     "output_type": "stream",
     "text": [
      "batch_shape of bivariate_normal_from_independent is: ()\n",
      "event_shape of bivariate_normal_from_independent is: (2,)\n"
     ]
    }
   ],
   "source": [
    "# Note that dimension from batch_shape has shifted to event_shape\n",
    "\n",
    "print('batch_shape of bivariate_normal_from_independent is:', bivariate_normal_from_independent.batch_shape)\n",
    "print('event_shape of bivariate_normal_from_independent is:', bivariate_normal_from_independent.event_shape)"
   ]
  },
  {
   "cell_type": "code",
   "execution_count": 38,
   "metadata": {},
   "outputs": [
    {
     "name": "stderr",
     "output_type": "stream",
     "text": [
      "c:\\programdata\\anaconda3\\envs\\dev\\lib\\site-packages\\seaborn\\_decorators.py:43: FutureWarning: Pass the following variables as keyword args: x, y. From version 0.12, the only valid positional argument will be `data`, and passing other arguments without an explicit keyword will result in an error or misinterpretation.\n",
      "  FutureWarning\n"
     ]
    },
    {
     "data": {
      "text/plain": [
       "<seaborn.axisgrid.JointGrid at 0x1a16afdb160>"
      ]
     },
     "execution_count": 38,
     "metadata": {},
     "output_type": "execute_result"
    },
    {
     "data": {
      "image/png": "[encoded data removed]",
      "text/plain": [
       "<Figure size 432x432 with 3 Axes>"
      ]
     },
     "metadata": {
      "needs_background": "light"
     },
     "output_type": "display_data"
    }
   ],
   "source": [
    "# Create a plot showing joint density contours and marginal density functions\n",
    "\n",
    "samples = bivariate_normal_from_independent.sample(10000)\n",
    "x1 = samples[:, 0]\n",
    "x2 = samples[:, 1]\n",
    "sns.jointplot(x1, x2, kind=\"kde\", space=0, color='b', xlim=[-4, 4], ylim=[-4, 4])"
   ]
  },
  {
   "cell_type": "code",
   "execution_count": 39,
   "metadata": {},
   "outputs": [
    {
     "data": {
      "text/plain": [
       "<tfp.distributions.MultivariateNormalDiag 'MultivariateNormalDiag' batch_shape=[] event_shape=[2] dtype=float32>"
      ]
     },
     "execution_count": 39,
     "metadata": {},
     "output_type": "execute_result"
    }
   ],
   "source": [
    "# Use MultivariateNormalDiag to create the equivalent distribution\n",
    "# Note that diagonal covariance matrix => no correlation => independence (for the multivariate normal distribution)\n",
    "\n",
    "bivariate_normal_from_multivariate = tfd.MultivariateNormalDiag(loc=locs, scale_diag=scales)\n",
    "bivariate_normal_from_multivariate"
   ]
  },
  {
   "cell_type": "code",
   "execution_count": 40,
   "metadata": {},
   "outputs": [
    {
     "name": "stderr",
     "output_type": "stream",
     "text": [
      "c:\\programdata\\anaconda3\\envs\\dev\\lib\\site-packages\\seaborn\\_decorators.py:43: FutureWarning: Pass the following variables as keyword args: x, y. From version 0.12, the only valid positional argument will be `data`, and passing other arguments without an explicit keyword will result in an error or misinterpretation.\n",
      "  FutureWarning\n"
     ]
    },
    {
     "data": {
      "text/plain": [
       "<seaborn.axisgrid.JointGrid at 0x1a16d16f630>"
      ]
     },
     "execution_count": 40,
     "metadata": {},
     "output_type": "execute_result"
    },
    {
     "data": {
      "image/png": "[encoded data removed]",
      "text/plain": [
       "<Figure size 432x432 with 3 Axes>"
      ]
     },
     "metadata": {
      "needs_background": "light"
     },
     "output_type": "display_data"
    }
   ],
   "source": [
    "# Plot the joint density function of bivariate_normal_from_multivariate\n",
    "# Refer back to bivariate_normal_from_independent to show that the plot is the same\n",
    "# Summarise how Independent has been used\n",
    "\n",
    "samples = bivariate_normal_from_multivariate.sample(10000)\n",
    "x1 = samples[:, 0]\n",
    "x2 = samples[:, 1]\n",
    "sns.jointplot(x1, x2, kind=\"kde\", space=0, color='b', xlim=[-4, 4], ylim=[-4, 4])"
   ]
  },
  {
   "cell_type": "markdown",
   "metadata": {},
   "source": [
    "#### Shifting batch dimensions to event dimensions using \n",
    "`reinterpreted_batch_ndims`"
   ]
  },
  {
   "cell_type": "code",
   "execution_count": 41,
   "metadata": {},
   "outputs": [
    {
     "data": {
      "text/plain": [
       "<tfp.distributions.Normal 'Normal' batch_shape=[3, 2] event_shape=[] dtype=float32>"
      ]
     },
     "execution_count": 41,
     "metadata": {},
     "output_type": "execute_result"
    }
   ],
   "source": [
    "# Demonstrate use of reinterpreted_batch_ndims\n",
    "# By default all batch dims except the first are transferred to event dims\n",
    "\n",
    "loc_grid = [[-100., -100.],\n",
    "            [100., 100.],\n",
    "            [0., 0.]]\n",
    "scale_grid = [[1., 10.],\n",
    "              [1., 10.],\n",
    "              [1., 1.]]\n",
    "\n",
    "normals_batch_3by2_event_scalar = tfd.Normal(loc=loc_grid, scale=scale_grid)\n",
    "normals_batch_3by2_event_scalar"
   ]
  },
  {
   "cell_type": "code",
   "execution_count": 42,
   "metadata": {},
   "outputs": [
    {
     "data": {
      "text/plain": [
       "<tf.Tensor: shape=(3, 2), dtype=float32, numpy=\n",
       "array([[-200.91895 ,   -5.221524],\n",
       "       [-200.91895 ,   -5.221524],\n",
       "       [ -13.418939,  -13.418939]], dtype=float32)>"
      ]
     },
     "execution_count": 42,
     "metadata": {},
     "output_type": "execute_result"
    }
   ],
   "source": [
    "# Evaluate log_prob\n",
    "\n",
    "pdf_x = [[-80, -80],\n",
    "         [80, 80],\n",
    "         [5, 5]]\n",
    "normals_batch_3by2_event_scalar.log_prob(pdf_x)"
   ]
  },
  {
   "cell_type": "code",
   "execution_count": 43,
   "metadata": {},
   "outputs": [
    {
     "data": {
      "text/plain": [
       "<tf.Tensor: shape=(3,), dtype=float32, numpy=array([-206.14047 , -206.14047 ,  -26.837877], dtype=float32)>"
      ]
     },
     "execution_count": 43,
     "metadata": {},
     "output_type": "execute_result"
    }
   ],
   "source": [
    "tf.reduce_sum(normals_batch_3by2_event_scalar.log_prob(pdf_x), axis=1)"
   ]
  },
  {
   "cell_type": "code",
   "execution_count": 44,
   "metadata": {},
   "outputs": [
    {
     "data": {
      "text/plain": [
       "<tf.Tensor: shape=(), dtype=float32, numpy=-439.11884>"
      ]
     },
     "execution_count": 44,
     "metadata": {},
     "output_type": "execute_result"
    }
   ],
   "source": [
    "tf.reduce_sum(normals_batch_3by2_event_scalar.log_prob(pdf_x))"
   ]
  },
  {
   "cell_type": "code",
   "execution_count": 45,
   "metadata": {},
   "outputs": [
    {
     "data": {
      "text/plain": [
       "<tfp.distributions.Independent 'IndependentNormal' batch_shape=[3] event_shape=[2] dtype=float32>"
      ]
     },
     "execution_count": 45,
     "metadata": {},
     "output_type": "execute_result"
    }
   ],
   "source": [
    "# We now have a batch of 3 bivariate normal distributions,\n",
    "# each parametrised by a column of our original parameter grid\n",
    "\n",
    "normals_batch_3by2_event_2 = tfd.Independent(normals_batch_3by2_event_scalar, reinterpreted_batch_ndims=1)\n",
    "normals_batch_3by2_event_2"
   ]
  },
  {
   "cell_type": "code",
   "execution_count": 46,
   "metadata": {},
   "outputs": [
    {
     "data": {
      "text/plain": [
       "<tf.Tensor: shape=(3,), dtype=float32, numpy=array([-206.14047 , -206.14047 ,  -26.837877], dtype=float32)>"
      ]
     },
     "execution_count": 46,
     "metadata": {},
     "output_type": "execute_result"
    }
   ],
   "source": [
    "# Evaluate log_prob\n",
    "\n",
    "normals_batch_3by2_event_2.log_prob(pdf_x)"
   ]
  },
  {
   "cell_type": "code",
   "execution_count": 47,
   "metadata": {},
   "outputs": [
    {
     "data": {
      "text/plain": [
       "<tfp.distributions.Independent 'IndependentNormal' batch_shape=[] event_shape=[3, 2] dtype=float32>"
      ]
     },
     "execution_count": 47,
     "metadata": {},
     "output_type": "execute_result"
    }
   ],
   "source": [
    "# Can reinterpret all batch dimensions as event dimensions\n",
    "\n",
    "normals_batch_3by2_event_3by2 = tfd.Independent(normals_batch_3by2_event_scalar, reinterpreted_batch_ndims=2)\n",
    "normals_batch_3by2_event_3by2"
   ]
  },
  {
   "cell_type": "code",
   "execution_count": 48,
   "metadata": {},
   "outputs": [
    {
     "data": {
      "text/plain": [
       "<tf.Tensor: shape=(), dtype=float32, numpy=-439.11884>"
      ]
     },
     "execution_count": 48,
     "metadata": {},
     "output_type": "execute_result"
    }
   ],
   "source": [
    "# Take log_probs \n",
    "\n",
    "normals_batch_3by2_event_3by2.log_prob(pdf_x)"
   ]
  },
  {
   "cell_type": "markdown",
   "metadata": {},
   "source": [
    "#### Using `Independent` to build a Naive Bayes classifier"
   ]
  },
  {
   "cell_type": "markdown",
   "metadata": {},
   "source": [
    "#### Introduction to `newsgroups` data set"
   ]
  },
  {
   "cell_type": "markdown",
   "metadata": {},
   "source": [
    "In this tutorial, just load the dataset, fetch train/test splits, probably choose a subset of the data.\n",
    "\n",
    "Construct the class conditional feature distribution (with Independent, using the Naive Bayes assumption) and sample from it.\n",
    "\n",
    "We can just use the ML estimates for parameters, in later tutorials we will learn them."
   ]
  },
  {
   "cell_type": "code",
   "execution_count": 49,
   "metadata": {},
   "outputs": [],
   "source": [
    "# Convenience function for retrieving the 20 newsgroups data set\n",
    "\n",
    "# Usenet was a forerunner to modern internet forums\n",
    "# Users could post and read articles\n",
    "# Newsgroup corresponded to a topic\n",
    "# Example topics in this data set: IBM computer hardware, baseball\n",
    "# Our objective is to use an article's contents to predict its newsgroup,\n",
    "# a 20-class classification problem.\n",
    "\n",
    "# 18000 newsgroups, posts on 20 topics\n",
    "\n",
    "from sklearn.datasets import fetch_20newsgroups\n",
    "from sklearn.feature_extraction.text import CountVectorizer"
   ]
  },
  {
   "cell_type": "code",
   "execution_count": 50,
   "metadata": {},
   "outputs": [],
   "source": [
    "# Get the train data\n",
    "\n",
    "data_root = './'\n",
    "newsgroups_data = fetch_20newsgroups(data_home=data_root, subset='train')"
   ]
  },
  {
   "cell_type": "code",
   "execution_count": 51,
   "metadata": {},
   "outputs": [
    {
     "data": {
      "text/plain": [
       "['DESCR', 'data', 'filenames', 'target', 'target_names']"
      ]
     },
     "execution_count": 51,
     "metadata": {},
     "output_type": "execute_result"
    }
   ],
   "source": [
    "dir(newsgroups_data)"
   ]
  },
  {
   "cell_type": "code",
   "execution_count": 52,
   "metadata": {},
   "outputs": [
    {
     "name": "stdout",
     "output_type": "stream",
     "text": [
      ".. _20newsgroups_dataset:\n",
      "\n",
      "The 20 newsgroups text dataset\n",
      "------------------------------\n",
      "\n",
      "The 20 newsgroups dataset comprises around 18000 newsgroups posts on\n",
      "20 topics split in two subsets: one for training (or development)\n",
      "and the other one for testing (or for performance evaluation). The split\n",
      "between the train and test set is based upon a messages posted before\n",
      "and after a specific date.\n",
      "\n",
      "This module contains two loaders. The first one,\n",
      ":func:`sklearn.datasets.fetch_20newsgroups`,\n",
      "returns a list of the raw texts that can be fed to text feature\n",
      "extractors such as :class:`~sklearn.feature_extraction.text.CountVectorizer`\n",
      "with custom parameters so as to extract feature vectors.\n",
      "The second one, :func:`sklearn.datasets.fetch_20newsgroups_vectorized`,\n",
      "returns ready-to-use features, i.e., it is not necessary to use a feature\n",
      "extractor.\n",
      "\n",
      "**Data Set Characteristics:**\n",
      "\n",
      "    =================   ==========\n",
      "    Classes                     20\n",
      "    Samples total            18846\n",
      "    Dimensionality               1\n",
      "    Features                  text\n",
      "    =================   ==========\n",
      "\n",
      "Usage\n",
      "~~~~~\n",
      "\n",
      "The :func:`sklearn.datasets.fetch_20newsgroups` function is a data\n",
      "fetching / caching functions that downloads the data archive from\n",
      "the original `20 newsgroups website`_, extracts the archive contents\n",
      "in the ``~/scikit_learn_data/20news_home`` folder and calls the\n",
      ":func:`sklearn.datasets.load_files` on either the training or\n",
      "testing set folder, or both of them::\n",
      "\n",
      "  >>> from sklearn.datasets import fetch_20newsgroups\n",
      "  >>> newsgroups_train = fetch_20newsgroups(subset='train')\n",
      "\n",
      "  >>> from pprint import pprint\n",
      "  >>> pprint(list(newsgroups_train.target_names))\n",
      "  ['alt.atheism',\n",
      "   'comp.graphics',\n",
      "   'comp.os.ms-windows.misc',\n",
      "   'comp.sys.ibm.pc.hardware',\n",
      "   'comp.sys.mac.hardware',\n",
      "   'comp.windows.x',\n",
      "   'misc.forsale',\n",
      "   'rec.autos',\n",
      "   'rec.motorcycles',\n",
      "   'rec.sport.baseball',\n",
      "   'rec.sport.hockey',\n",
      "   'sci.crypt',\n",
      "   'sci.electronics',\n",
      "   'sci.med',\n",
      "   'sci.space',\n",
      "   'soc.religion.christian',\n",
      "   'talk.politics.guns',\n",
      "   'talk.politics.mideast',\n",
      "   'talk.politics.misc',\n",
      "   'talk.religion.misc']\n",
      "\n",
      "The real data lies in the ``filenames`` and ``target`` attributes. The target\n",
      "attribute is the integer index of the category::\n",
      "\n",
      "  >>> newsgroups_train.filenames.shape\n",
      "  (11314,)\n",
      "  >>> newsgroups_train.target.shape\n",
      "  (11314,)\n",
      "  >>> newsgroups_train.target[:10]\n",
      "  array([ 7,  4,  4,  1, 14, 16, 13,  3,  2,  4])\n",
      "\n",
      "It is possible to load only a sub-selection of the categories by passing the\n",
      "list of the categories to load to the\n",
      ":func:`sklearn.datasets.fetch_20newsgroups` function::\n",
      "\n",
      "  >>> cats = ['alt.atheism', 'sci.space']\n",
      "  >>> newsgroups_train = fetch_20newsgroups(subset='train', categories=cats)\n",
      "\n",
      "  >>> list(newsgroups_train.target_names)\n",
      "  ['alt.atheism', 'sci.space']\n",
      "  >>> newsgroups_train.filenames.shape\n",
      "  (1073,)\n",
      "  >>> newsgroups_train.target.shape\n",
      "  (1073,)\n",
      "  >>> newsgroups_train.target[:10]\n",
      "  array([0, 1, 1, 1, 0, 1, 1, 0, 0, 0])\n",
      "\n",
      "Converting text to vectors\n",
      "~~~~~~~~~~~~~~~~~~~~~~~~~~\n",
      "\n",
      "In order to feed predictive or clustering models with the text data,\n",
      "one first need to turn the text into vectors of numerical values suitable\n",
      "for statistical analysis. This can be achieved with the utilities of the\n",
      "``sklearn.feature_extraction.text`` as demonstrated in the following\n",
      "example that extract `TF-IDF`_ vectors of unigram tokens\n",
      "from a subset of 20news::\n",
      "\n",
      "  >>> from sklearn.feature_extraction.text import TfidfVectorizer\n",
      "  >>> categories = ['alt.atheism', 'talk.religion.misc',\n",
      "  ...               'comp.graphics', 'sci.space']\n",
      "  >>> newsgroups_train = fetch_20newsgroups(subset='train',\n",
      "  ...                                       categories=categories)\n",
      "  >>> vectorizer = TfidfVectorizer()\n",
      "  >>> vectors = vectorizer.fit_transform(newsgroups_train.data)\n",
      "  >>> vectors.shape\n",
      "  (2034, 34118)\n",
      "\n",
      "The extracted TF-IDF vectors are very sparse, with an average of 159 non-zero\n",
      "components by sample in a more than 30000-dimensional space\n",
      "(less than .5% non-zero features)::\n",
      "\n",
      "  >>> vectors.nnz / float(vectors.shape[0])\n",
      "  159.01327...\n",
      "\n",
      ":func:`sklearn.datasets.fetch_20newsgroups_vectorized` is a function which \n",
      "returns ready-to-use token counts features instead of file names.\n",
      "\n",
      ".. _`20 newsgroups website`: http://people.csail.mit.edu/jrennie/20Newsgroups/\n",
      ".. _`TF-IDF`: https://en.wikipedia.org/wiki/Tf-idf\n",
      "\n",
      "\n",
      "Filtering text for more realistic training\n",
      "~~~~~~~~~~~~~~~~~~~~~~~~~~~~~~~~~~~~~~~~~~\n",
      "\n",
      "It is easy for a classifier to overfit on particular things that appear in the\n",
      "20 Newsgroups data, such as newsgroup headers. Many classifiers achieve very\n",
      "high F-scores, but their results would not generalize to other documents that\n",
      "aren't from this window of time.\n",
      "\n",
      "For example, let's look at the results of a multinomial Naive Bayes classifier,\n",
      "which is fast to train and achieves a decent F-score::\n",
      "\n",
      "  >>> from sklearn.naive_bayes import MultinomialNB\n",
      "  >>> from sklearn import metrics\n",
      "  >>> newsgroups_test = fetch_20newsgroups(subset='test',\n",
      "  ...                                      categories=categories)\n",
      "  >>> vectors_test = vectorizer.transform(newsgroups_test.data)\n",
      "  >>> clf = MultinomialNB(alpha=.01)\n",
      "  >>> clf.fit(vectors, newsgroups_train.target)\n",
      "  MultinomialNB(alpha=0.01, class_prior=None, fit_prior=True)\n",
      "\n",
      "  >>> pred = clf.predict(vectors_test)\n",
      "  >>> metrics.f1_score(newsgroups_test.target, pred, average='macro')\n",
      "  0.88213...\n",
      "\n",
      "(The example :ref:`sphx_glr_auto_examples_text_plot_document_classification_20newsgroups.py` shuffles\n",
      "the training and test data, instead of segmenting by time, and in that case\n",
      "multinomial Naive Bayes gets a much higher F-score of 0.88. Are you suspicious\n",
      "yet of what's going on inside this classifier?)\n",
      "\n",
      "Let's take a look at what the most informative features are:\n",
      "\n",
      "  >>> import numpy as np\n",
      "  >>> def show_top10(classifier, vectorizer, categories):\n",
      "  ...     feature_names = np.asarray(vectorizer.get_feature_names())\n",
      "  ...     for i, category in enumerate(categories):\n",
      "  ...         top10 = np.argsort(classifier.coef_[i])[-10:]\n",
      "  ...         print(\"%s: %s\" % (category, \" \".join(feature_names[top10])))\n",
      "  ...\n",
      "  >>> show_top10(clf, vectorizer, newsgroups_train.target_names)\n",
      "  alt.atheism: edu it and in you that is of to the\n",
      "  comp.graphics: edu in graphics it is for and of to the\n",
      "  sci.space: edu it that is in and space to of the\n",
      "  talk.religion.misc: not it you in is that and to of the\n",
      "\n",
      "\n",
      "You can now see many things that these features have overfit to:\n",
      "\n",
      "- Almost every group is distinguished by whether headers such as\n",
      "  ``NNTP-Posting-Host:`` and ``Distribution:`` appear more or less often.\n",
      "- Another significant feature involves whether the sender is affiliated with\n",
      "  a university, as indicated either by their headers or their signature.\n",
      "- The word \"article\" is a significant feature, based on how often people quote\n",
      "  previous posts like this: \"In article [article ID], [name] <[e-mail address]>\n",
      "  wrote:\"\n",
      "- Other features match the names and e-mail addresses of particular people who\n",
      "  were posting at the time.\n",
      "\n",
      "With such an abundance of clues that distinguish newsgroups, the classifiers\n",
      "barely have to identify topics from text at all, and they all perform at the\n",
      "same high level.\n",
      "\n",
      "For this reason, the functions that load 20 Newsgroups data provide a\n",
      "parameter called **remove**, telling it what kinds of information to strip out\n",
      "of each file. **remove** should be a tuple containing any subset of\n",
      "``('headers', 'footers', 'quotes')``, telling it to remove headers, signature\n",
      "blocks, and quotation blocks respectively.\n",
      "\n",
      "  >>> newsgroups_test = fetch_20newsgroups(subset='test',\n",
      "  ...                                      remove=('headers', 'footers', 'quotes'),\n",
      "  ...                                      categories=categories)\n",
      "  >>> vectors_test = vectorizer.transform(newsgroups_test.data)\n",
      "  >>> pred = clf.predict(vectors_test)\n",
      "  >>> metrics.f1_score(pred, newsgroups_test.target, average='macro')\n",
      "  0.77310...\n",
      "\n",
      "This classifier lost over a lot of its F-score, just because we removed\n",
      "metadata that has little to do with topic classification.\n",
      "It loses even more if we also strip this metadata from the training data:\n",
      "\n",
      "  >>> newsgroups_train = fetch_20newsgroups(subset='train',\n",
      "  ...                                       remove=('headers', 'footers', 'quotes'),\n",
      "  ...                                       categories=categories)\n",
      "  >>> vectors = vectorizer.fit_transform(newsgroups_train.data)\n",
      "  >>> clf = MultinomialNB(alpha=.01)\n",
      "  >>> clf.fit(vectors, newsgroups_train.target)\n",
      "  MultinomialNB(alpha=0.01, class_prior=None, fit_prior=True)\n",
      "\n",
      "  >>> vectors_test = vectorizer.transform(newsgroups_test.data)\n",
      "  >>> pred = clf.predict(vectors_test)\n",
      "  >>> metrics.f1_score(newsgroups_test.target, pred, average='macro')\n",
      "  0.76995...\n",
      "\n",
      "Some other classifiers cope better with this harder version of the task. Try\n",
      "running :ref:`sphx_glr_auto_examples_model_selection_grid_search_text_feature_extraction.py` with and without\n",
      "the ``--filter`` option to compare the results.\n",
      "\n",
      ".. topic:: Recommendation\n",
      "\n",
      "  When evaluating text classifiers on the 20 Newsgroups data, you\n",
      "  should strip newsgroup-related metadata. In scikit-learn, you can do this by\n",
      "  setting ``remove=('headers', 'footers', 'quotes')``. The F-score will be\n",
      "  lower because it is more realistic.\n",
      "\n",
      ".. topic:: Examples\n",
      "\n",
      "   * :ref:`sphx_glr_auto_examples_model_selection_grid_search_text_feature_extraction.py`\n",
      "\n",
      "   * :ref:`sphx_glr_auto_examples_text_plot_document_classification_20newsgroups.py`\n",
      "\n"
     ]
    }
   ],
   "source": [
    "# More information about the data set\n",
    "\n",
    "print(newsgroups_data.DESCR)"
   ]
  },
  {
   "cell_type": "code",
   "execution_count": 53,
   "metadata": {},
   "outputs": [
    {
     "name": "stdout",
     "output_type": "stream",
     "text": [
      "From: lerxst@wam.umd.edu (where's my thing)\n",
      "Subject: WHAT car is this!?\n",
      "Nntp-Posting-Host: rac3.wam.umd.edu\n",
      "Organization: University of Maryland, College Park\n",
      "Lines: 15\n",
      "\n",
      " I was wondering if anyone out there could enlighten me on this car I saw\n",
      "the other day. It was a 2-door sports car, looked to be from the late 60s/\n",
      "early 70s. It was called a Bricklin. The doors were really small. In addition,\n",
      "the front bumper was separate from the rest of the body. This is \n",
      "all I know. If anyone can tellme a model name, engine specs, years\n",
      "of production, where this car is made, history, or whatever info you\n",
      "have on this funky looking car, please e-mail.\n",
      "\n",
      "Thanks,\n",
      "- IL\n",
      "   ---- brought to you by your neighborhood Lerxst ----\n",
      "\n",
      "\n",
      "\n",
      "\n",
      "\n"
     ]
    }
   ],
   "source": [
    "# Example article\n",
    "\n",
    "print(newsgroups_data.data[0])"
   ]
  },
  {
   "cell_type": "code",
   "execution_count": 54,
   "metadata": {},
   "outputs": [
    {
     "name": "stdout",
     "output_type": "stream",
     "text": [
      "Number of classes: 20\n"
     ]
    }
   ],
   "source": [
    "print('Number of classes:', len(set(newsgroups_data.target)))"
   ]
  },
  {
   "cell_type": "code",
   "execution_count": 55,
   "metadata": {},
   "outputs": [
    {
     "name": "stdout",
     "output_type": "stream",
     "text": [
      "7\n"
     ]
    }
   ],
   "source": [
    "# Associated label\n",
    "\n",
    "print(newsgroups_data.target[0])"
   ]
  },
  {
   "cell_type": "code",
   "execution_count": 56,
   "metadata": {},
   "outputs": [
    {
     "name": "stdout",
     "output_type": "stream",
     "text": [
      "rec.autos\n"
     ]
    }
   ],
   "source": [
    "# Name of label\n",
    "\n",
    "print(newsgroups_data.target_names[newsgroups_data.target[0]])"
   ]
  },
  {
   "cell_type": "code",
   "execution_count": 57,
   "metadata": {},
   "outputs": [
    {
     "name": "stdout",
     "output_type": "stream",
     "text": [
      "Number of articles: 11314\n"
     ]
    }
   ],
   "source": [
    "# Preprocessing boilerplate\n",
    "\n",
    "n_documents = len(newsgroups_data.data)\n",
    "print('Number of articles:', n_documents)\n",
    "\n",
    "count_vectorizer = CountVectorizer(input='content', binary=True,\n",
    "                                   max_df=0.25, min_df=1.01/n_documents)  # ignore common words, words that appear once\n",
    "binary_bag_of_words = count_vectorizer.fit_transform(newsgroups_data.data)  # input is a list of strings"
   ]
  },
  {
   "cell_type": "code",
   "execution_count": 58,
   "metadata": {},
   "outputs": [
    {
     "name": "stdout",
     "output_type": "stream",
     "text": [
      "Vocabulary size: 56365\n"
     ]
    },
    {
     "data": {
      "text/plain": [
       "{'lerxst': 31701,\n",
       " 'wam': 53950,\n",
       " 'umd': 51879,\n",
       " 'where': 54371,\n",
       " 'thing': 50255,\n",
       " 'car': 13607,\n",
       " 'rac3': 42078,\n",
       " 'maryland': 33453,\n",
       " 'college': 15293,\n",
       " 'park': 38822}"
      ]
     },
     "execution_count": 58,
     "metadata": {},
     "output_type": "execute_result"
    }
   ],
   "source": [
    "# Check vocabulary\n",
    "\n",
    "print('Vocabulary size:', len(count_vectorizer.vocabulary_))\n",
    "{key: value for i, (key, value) in enumerate(count_vectorizer.vocabulary_.items()) if i < 10}"
   ]
  },
  {
   "cell_type": "code",
   "execution_count": 59,
   "metadata": {},
   "outputs": [
    {
     "name": "stdout",
     "output_type": "stream",
     "text": [
      "Type of binary_bag_of_words: <class 'scipy.sparse.csr.csr_matrix'>\n"
     ]
    },
    {
     "data": {
      "text/plain": [
       "(11314, 56365)"
      ]
     },
     "execution_count": 59,
     "metadata": {},
     "output_type": "execute_result"
    }
   ],
   "source": [
    "# Check shape\n",
    "\n",
    "print('Type of binary_bag_of_words:', type(binary_bag_of_words))\n",
    "binary_bag_of_words.shape"
   ]
  },
  {
   "cell_type": "code",
   "execution_count": 60,
   "metadata": {},
   "outputs": [
    {
     "name": "stdout",
     "output_type": "stream",
     "text": [
      "  (0, 31701)\t1\n",
      "  (0, 53950)\t1\n",
      "  (0, 51879)\t1\n",
      "  (0, 54371)\t1\n",
      "  (0, 50255)\t1\n",
      "  (0, 13607)\t1\n",
      "  (0, 42078)\t1\n",
      "  (0, 33453)\t1\n",
      "  (0, 15293)\t1\n",
      "  (0, 38822)\t1\n",
      "  (0, 1412)\t1\n",
      "  (0, 54828)\t1\n",
      "  (0, 9213)\t1\n",
      "  (0, 16472)\t1\n",
      "  (0, 21034)\t1\n",
      "  (0, 45006)\t1\n",
      "  (0, 17643)\t1\n",
      "  (0, 19514)\t1\n",
      "  (0, 47623)\t1\n",
      "  (0, 32330)\t1\n",
      "  (0, 31356)\t1\n",
      "  (0, 5135)\t1\n",
      "  (0, 20173)\t1\n",
      "  (0, 5639)\t1\n",
      "  (0, 13411)\t1\n",
      "  :\t:\n",
      "  (0, 7905)\t1\n",
      "  (0, 23639)\t1\n",
      "  (0, 12770)\t1\n",
      "  (0, 45705)\t1\n",
      "  (0, 43490)\t1\n",
      "  (0, 11973)\t1\n",
      "  (0, 49889)\t1\n",
      "  (0, 35014)\t1\n",
      "  (0, 36078)\t1\n",
      "  (0, 20995)\t1\n",
      "  (0, 47438)\t1\n",
      "  (0, 55820)\t1\n",
      "  (0, 41015)\t1\n",
      "  (0, 32954)\t1\n",
      "  (0, 26465)\t1\n",
      "  (0, 54347)\t1\n",
      "  (0, 28171)\t1\n",
      "  (0, 23782)\t1\n",
      "  (0, 32332)\t1\n",
      "  (0, 40028)\t1\n",
      "  (0, 33027)\t1\n",
      "  (0, 50121)\t1\n",
      "  (0, 27557)\t1\n",
      "  (0, 12556)\t1\n",
      "  (0, 36384)\t1\n"
     ]
    },
    {
     "data": {
      "text/plain": [
       "[array(['lerxst', 'wam', 'umd', 'where', 'thing', 'car', 'rac3',\n",
       "        'maryland', 'college', 'park', '15', 'wondering', 'anyone',\n",
       "        'could', 'enlighten', 'saw', 'day', 'door', 'sports', 'looked',\n",
       "        'late', '60s', 'early', '70s', 'called', 'bricklin', 'doors',\n",
       "        'were', 'really', 'small', 'addition', 'front', 'bumper',\n",
       "        'separate', 'rest', 'body', 'tellme', 'model', 'name', 'engine',\n",
       "        'specs', 'years', 'production', 'made', 'history', 'whatever',\n",
       "        'info', 'funky', 'looking', 'please', 'mail', 'thanks', 'il',\n",
       "        'brought', 'neighborhood'], dtype='<U80')]"
      ]
     },
     "execution_count": 60,
     "metadata": {},
     "output_type": "execute_result"
    }
   ],
   "source": [
    "# Check that the fit has been successful\n",
    "\n",
    "print(binary_bag_of_words[0])\n",
    "count_vectorizer.inverse_transform(binary_bag_of_words[0])"
   ]
  },
  {
   "cell_type": "code",
   "execution_count": 61,
   "metadata": {},
   "outputs": [],
   "source": [
    "# Dict that will be useful later \n",
    "\n",
    "inv_vocabulary = {value: key for key, value in count_vectorizer.vocabulary_.items()}"
   ]
  },
  {
   "cell_type": "code",
   "execution_count": 62,
   "metadata": {},
   "outputs": [
    {
     "data": {
      "text/plain": [
       "{31701: 'lerxst',\n",
       " 53950: 'wam',\n",
       " 51879: 'umd',\n",
       " 54371: 'where',\n",
       " 50255: 'thing',\n",
       " 13607: 'car',\n",
       " 42078: 'rac3',\n",
       " 33453: 'maryland',\n",
       " 15293: 'college',\n",
       " 38822: 'park'}"
      ]
     },
     "execution_count": 62,
     "metadata": {},
     "output_type": "execute_result"
    }
   ],
   "source": [
    "{key: value for i, (key, value) in enumerate(inv_vocabulary.items()) if i < 10}"
   ]
  },
  {
   "cell_type": "markdown",
   "metadata": {},
   "source": [
    "#### A Naive Bayes classifier for `newsgroup`"
   ]
  },
  {
   "cell_type": "markdown",
   "metadata": {},
   "source": [
    "Each feature vector $x$ is a list of indicators for whether a word appears in the article. $x_i$ is 1 if the $i$th word appears, and 0 otherwise. `inv_vocabulary` matches word indices $i$ to words.\n",
    "\n",
    "Each label $y$ is a value in $0, 1, \\ldots, 19$.\n",
    "\n",
    "The parts of a naive Bayes classifier for this problem can be summarised as:  \n",
    "\n",
    "\n",
    "- A probability distribution for the feature vector by class, $p(x|y = j)$ for each $j = 0, 1, \\ldots, 19$. These probability distributions are assumed to have independent components: we can factorize the joint probability as a product of marginal probabilities\n",
    "\\begin{equation}\n",
    "    p(x|y = j) = \\prod_{i=1}^d p(x_i|y = j)\n",
    "\\end{equation}\n",
    "These marginal probability distributions are Bernoulli distributions, each of which has a single parameter $\\theta_{ji} := p(x_i = 1|y = j)$. This parameter is the probability of observing word $i$ in an article of class $j$. \n",
    "\n",
    "- We will use the Laplace smoothed maximum likelihood estimate to compute these parameters. Laplace smoothing involves adding small counts to every feature for each class. Else, if a feature did not appear in the training set of a class, but then we observed it in our test data the log probability would be undefined.\n",
    "\n",
    "- A collection of class prior probabilities $p(y = j)$. These will be set by computing the class base rates in the training set.  \n",
    "\n",
    "\n",
    "- A function for computing the probability of class membership via Bayes' theorem:  \n",
    "\n",
    "\\begin{equation}\n",
    "    p(y = j|x) = \\frac{p(x|y = j)p(y = j)}{p(x)}\n",
    "\\end{equation}"
   ]
  },
  {
   "cell_type": "code",
   "execution_count": 63,
   "metadata": {},
   "outputs": [],
   "source": [
    "# Compute the parameter estimates (adjusted fraction of documents in class that contain word)\n",
    "\n",
    "n_classes = len(set(newsgroups_data.target))\n",
    "y = newsgroups_data.target\n",
    "n_words = binary_bag_of_words.shape[1]\n",
    "\n",
    "alpha = 1e-6 # parameters for Laplace smoothing\n",
    "\n",
    "theta = np.zeros([n_classes, n_words]) # stores parameter values - prob. word given class\n",
    "for c_k in range(n_classes): # 0, 1, ..., 19\n",
    "    class_mask = (y == c_k)\n",
    "    N = class_mask.sum() # number of articles in class\n",
    "    word_count = binary_bag_of_words[class_mask].sum(axis=0)  # occurrences of each word for the given class\n",
    "    theta[c_k] = (word_count + alpha) / (N + (alpha * 2))"
   ]
  },
  {
   "cell_type": "code",
   "execution_count": 64,
   "metadata": {},
   "outputs": [
    {
     "data": {
      "text/plain": [
       "array([[6.25000206e-03, 2.29166687e-02, 2.08333332e-09, ...,\n",
       "        2.08333332e-09, 2.08333332e-09, 2.08333332e-09],\n",
       "       [3.42465769e-02, 1.88356181e-02, 1.71232876e-09, ...,\n",
       "        1.71232876e-09, 1.71232876e-09, 1.71232876e-09],\n",
       "       [3.21489018e-02, 1.69204754e-02, 1.69204737e-09, ...,\n",
       "        1.69204737e-09, 1.69204737e-09, 1.69204737e-09],\n",
       "       ...,\n",
       "       [5.14184413e-02, 1.48936171e-01, 1.77305141e-03, ...,\n",
       "        1.77304964e-09, 1.77304964e-09, 1.77304964e-09],\n",
       "       [3.44086042e-02, 6.45161309e-02, 2.15053763e-09, ...,\n",
       "        2.15053763e-09, 2.15053763e-09, 2.15053763e-09],\n",
       "       [1.06100822e-02, 1.85676418e-02, 2.65251988e-09, ...,\n",
       "        2.65251988e-09, 2.65251988e-09, 2.65251988e-09]])"
      ]
     },
     "execution_count": 64,
     "metadata": {},
     "output_type": "execute_result"
    }
   ],
   "source": [
    "theta"
   ]
  },
  {
   "cell_type": "code",
   "execution_count": 65,
   "metadata": {},
   "outputs": [
    {
     "name": "stdout",
     "output_type": "stream",
     "text": [
      "Most probable word in class alt.atheism is \"people\".\n",
      "Most probable word in class comp.graphics is \"graphics\".\n",
      "Most probable word in class comp.os.ms-windows.misc is \"windows\".\n",
      "Most probable word in class comp.sys.ibm.pc.hardware is \"thanks\".\n",
      "Most probable word in class comp.sys.mac.hardware is \"mac\".\n",
      "Most probable word in class comp.windows.x is \"window\".\n",
      "Most probable word in class misc.forsale is \"sale\".\n",
      "Most probable word in class rec.autos is \"car\".\n",
      "Most probable word in class rec.motorcycles is \"dod\".\n",
      "Most probable word in class rec.sport.baseball is \"he\".\n",
      "Most probable word in class rec.sport.hockey is \"ca\".\n",
      "Most probable word in class sci.crypt is \"clipper\".\n",
      "Most probable word in class sci.electronics is \"use\".\n",
      "Most probable word in class sci.med is \"reply\".\n",
      "Most probable word in class sci.space is \"space\".\n",
      "Most probable word in class soc.religion.christian is \"god\".\n",
      "Most probable word in class talk.politics.guns is \"people\".\n",
      "Most probable word in class talk.politics.mideast is \"people\".\n",
      "Most probable word in class talk.politics.misc is \"people\".\n",
      "Most probable word in class talk.religion.misc is \"he\".\n"
     ]
    }
   ],
   "source": [
    "# Check whether the most probable word in each class is reasonable\n",
    "\n",
    "most_probable_word_ix = theta.argmax(axis=1) # most probable word for each class\n",
    "\n",
    "for j, ix in enumerate(most_probable_word_ix):\n",
    "    print('Most probable word in class {} is \"{}\".'.format(newsgroups_data['target_names'][j],\n",
    "                                                           inv_vocabulary[ix]))"
   ]
  },
  {
   "cell_type": "code",
   "execution_count": 66,
   "metadata": {},
   "outputs": [
    {
     "data": {
      "text/plain": [
       "<tfp.distributions.Independent 'IndependentBernoulli' batch_shape=[20] event_shape=[56365] dtype=int32>"
      ]
     },
     "execution_count": 66,
     "metadata": {},
     "output_type": "execute_result"
    }
   ],
   "source": [
    "# Define a distribution for each class\n",
    "\n",
    "batch_of_bernoulli = tfd.Bernoulli(probs=theta)\n",
    "p_x_given_y = tfd.Independent(batch_of_bernoulli, reinterpreted_batch_ndims=1)\n",
    "p_x_given_y"
   ]
  },
  {
   "cell_type": "code",
   "execution_count": 67,
   "metadata": {},
   "outputs": [
    {
     "data": {
      "text/plain": [
       "TensorShape([10, 20, 56365])"
      ]
     },
     "execution_count": 67,
     "metadata": {},
     "output_type": "execute_result"
    }
   ],
   "source": [
    "# Take a sample of words from each class\n",
    "\n",
    "n_samples = 10\n",
    "samples = p_x_given_y.sample(n_samples)\n",
    "samples.shape"
   ]
  },
  {
   "cell_type": "code",
   "execution_count": 68,
   "metadata": {},
   "outputs": [
    {
     "data": {
      "text/plain": [
       "'soc.religion.christian'"
      ]
     },
     "execution_count": 68,
     "metadata": {},
     "output_type": "execute_result"
    }
   ],
   "source": [
    "# Choose a class\n",
    "\n",
    "chosen_class = 15\n",
    "newsgroups_data['target_names'][chosen_class]"
   ]
  },
  {
   "cell_type": "code",
   "execution_count": 69,
   "metadata": {},
   "outputs": [
    {
     "data": {
      "text/plain": [
       "<tf.Tensor: shape=(10, 56365), dtype=int32, numpy=\n",
       "array([[0, 0, 0, ..., 0, 0, 0],\n",
       "       [0, 0, 0, ..., 0, 0, 0],\n",
       "       [0, 0, 0, ..., 0, 0, 0],\n",
       "       ...,\n",
       "       [0, 0, 0, ..., 0, 0, 0],\n",
       "       [1, 1, 0, ..., 0, 0, 0],\n",
       "       [0, 0, 0, ..., 0, 0, 0]])>"
      ]
     },
     "execution_count": 69,
     "metadata": {},
     "output_type": "execute_result"
    }
   ],
   "source": [
    "# Indicators for words that appear in the sample\n",
    "\n",
    "class_sample = samples[:, chosen_class]\n",
    "class_sample"
   ]
  },
  {
   "cell_type": "code",
   "execution_count": 70,
   "metadata": {},
   "outputs": [
    {
     "data": {
      "text/plain": [
       "[array(['03', '14', '22102', '29266', '30602', '93', 'acknowledge',\n",
       "        'admit', 'advantage', 'against', 'ages', 'also', 'asked', 'atoned',\n",
       "        'believer', 'best', 'bible', 'biblical', 'books', 'canada',\n",
       "        'cannot', 'carbon', 'caused', 'christian', 'christians',\n",
       "        'computing', 'concerning', 'create', 'crushed', 'cs89mcd', 'date',\n",
       "        'devil', 'did', 'doing', 'english', 'eternal', 'even', 'evidence',\n",
       "        'examples', 'exists', 'fax', 'find', 'fluctuate', 'found',\n",
       "        'fourth', 'genesis', 'geneva', 'got', 'harrassed', 'he', 'her',\n",
       "        'his', 'historians', 'idea', 'info', 'interpretation', 'issuing',\n",
       "        'jerusalem', 'jesus', 'keep', 'knew', 'last', 'least', 'life',\n",
       "        'live', 'lot', 'made', 'manufacture', 'many', 'math', 'meaning',\n",
       "        'members', 'mind', 'misunderstanding', 'netters', 'never',\n",
       "        'nicely', 'nj', 'objection', 'oil', 'our', 'over', 'overall',\n",
       "        'part', 'physical', 'portrayals', 'professed', 'really',\n",
       "        'religion', 'remember', 'reply', 'rutgers', 'science', 'signs',\n",
       "        'sin', 'since', 'someone', 'something', 'specifically', 'speed',\n",
       "        'square', 'steve', 'take', 'terminal', 'theories', 'thought',\n",
       "        'through', 'time', 'trashed', 'truth', 'trying', 'way', 'well',\n",
       "        'were', 'whether', 'witness', 'works'], dtype='<U80')]"
      ]
     },
     "execution_count": 70,
     "metadata": {},
     "output_type": "execute_result"
    }
   ],
   "source": [
    "# Perform inverse transform to test quality of fit\n",
    "\n",
    "count_vectorizer.inverse_transform(class_sample[0])"
   ]
  },
  {
   "cell_type": "markdown",
   "metadata": {},
   "source": [
    "***\n",
    "<a id='sampling_and_log_probs'></a>\n",
    "## Sampling and log probs"
   ]
  },
  {
   "cell_type": "code",
   "execution_count": 71,
   "metadata": {},
   "outputs": [
    {
     "data": {
      "text/plain": [
       "<tfp.distributions.MultivariateNormalDiag 'MultivariateNormalDiag' batch_shape=[3] event_shape=[2] dtype=float32>"
      ]
     },
     "execution_count": 71,
     "metadata": {},
     "output_type": "execute_result"
    }
   ],
   "source": [
    "# Make Multivariate Distribution\n",
    "\n",
    "normal_distributions = tfd.MultivariateNormalDiag(loc=[[0.5, 1], [0.1, 0], [0, 0.2]],\n",
    "                                                  scale_diag=[[2, 3], [1, 3], [4, 4]])\n",
    "normal_distributions"
   ]
  },
  {
   "cell_type": "code",
   "execution_count": 72,
   "metadata": {},
   "outputs": [
    {
     "data": {
      "text/plain": [
       "<tf.Tensor: shape=(10, 3, 2), dtype=float32, numpy=\n",
       "array([[[ 2.0694826 , -0.7429162 ],\n",
       "        [-0.1452356 , -4.3450727 ],\n",
       "        [-6.385345  ,  1.0314193 ]],\n",
       "\n",
       "       [[-2.22366   ,  4.604908  ],\n",
       "        [-0.98679006,  1.497858  ],\n",
       "        [ 3.4777088 , -6.075538  ]],\n",
       "\n",
       "       [[-0.6812322 , -0.2708249 ],\n",
       "        [ 0.0308037 ,  2.4048078 ],\n",
       "        [ 0.85003436,  3.5731428 ]],\n",
       "\n",
       "       [[ 1.1420963 ,  2.0886304 ],\n",
       "        [-1.8074498 , -1.443822  ],\n",
       "        [-2.7295866 ,  0.75012505]],\n",
       "\n",
       "       [[ 1.481229  , -2.4346874 ],\n",
       "        [-0.67377216,  3.83392   ],\n",
       "        [ 0.81539357, -5.2484245 ]],\n",
       "\n",
       "       [[-1.5991216 ,  3.3280497 ],\n",
       "        [ 0.38134137,  3.2374713 ],\n",
       "        [ 3.9279685 , -1.6538899 ]],\n",
       "\n",
       "       [[-1.6616075 , -1.7254958 ],\n",
       "        [ 1.5743065 ,  2.426102  ],\n",
       "        [ 3.5873628 , -6.110475  ]],\n",
       "\n",
       "       [[-0.05945069,  3.664042  ],\n",
       "        [-0.19715157,  2.2367802 ],\n",
       "        [-0.09401285, -5.207496  ]],\n",
       "\n",
       "       [[ 0.6110578 , -5.571296  ],\n",
       "        [-1.83908   , -3.646134  ],\n",
       "        [-2.4805849 , -2.588852  ]],\n",
       "\n",
       "       [[-1.2092545 , -1.7194972 ],\n",
       "        [-0.04299528, -0.6597674 ],\n",
       "        [-1.4382756 ,  2.6526618 ]]], dtype=float32)>"
      ]
     },
     "execution_count": 72,
     "metadata": {},
     "output_type": "execute_result"
    }
   ],
   "source": [
    "# Sample\n",
    "\n",
    "n_samples = 10\n",
    "normal_distributions.sample(n_samples)"
   ]
  },
  {
   "cell_type": "code",
   "execution_count": 73,
   "metadata": {},
   "outputs": [
    {
     "data": {
      "text/plain": [
       "<tfp.distributions.MultivariateNormalDiag 'MultivariateNormalDiag' batch_shape=[2, 2] event_shape=[3] dtype=float32>"
      ]
     },
     "execution_count": 73,
     "metadata": {},
     "output_type": "execute_result"
    }
   ],
   "source": [
    "# Multivariate Normal batched Distribution\n",
    "# We are broadcasting batch shapes of `loc` and `scal_diag` \n",
    "# against each other\n",
    "\n",
    "loc = [[[0.3, 1.5, 1.], [0.2, 0.4, 2.8]],\n",
    "       [[2., 2.3, 8], [1.4, 1, 1.3]]]  # shape (2, 2, 3)\n",
    "scale_diag = [0.4, 1., 0.7]\n",
    "normal_distributions = tfd.MultivariateNormalDiag(loc=loc, scale_diag=scale_diag)\n",
    "normal_distributions"
   ]
  },
  {
   "cell_type": "code",
   "execution_count": 74,
   "metadata": {},
   "outputs": [
    {
     "data": {
      "text/plain": [
       "<tfp.distributions.Independent 'IndependentMultivariateNormalDiag' batch_shape=[2] event_shape=[2, 3] dtype=float32>"
      ]
     },
     "execution_count": 74,
     "metadata": {},
     "output_type": "execute_result"
    }
   ],
   "source": [
    "# Use independent to move part of the batch shape\n",
    "\n",
    "normal_distributions_independent = tfd.Independent(normal_distributions, reinterpreted_batch_ndims=1)\n",
    "normal_distributions_independent"
   ]
  },
  {
   "cell_type": "code",
   "execution_count": 75,
   "metadata": {},
   "outputs": [
    {
     "data": {
      "text/plain": [
       "<tf.Tensor: shape=(10, 2, 2, 3), dtype=float32, numpy=\n",
       "array([[[[ 0.8105902 ,  0.84485555,  0.9972712 ],\n",
       "         [ 0.38344884, -1.107044  ,  3.565277  ]],\n",
       "\n",
       "        [[ 1.8162466 ,  1.9468151 ,  7.738292  ],\n",
       "         [ 1.6310134 ,  0.718937  ,  1.4097519 ]]],\n",
       "\n",
       "\n",
       "       [[[ 0.8069319 ,  0.8424324 ,  1.33918   ],\n",
       "         [-0.01239181,  1.4741853 ,  2.7203062 ]],\n",
       "\n",
       "        [[ 1.6443977 ,  0.9310142 ,  7.708164  ],\n",
       "         [ 1.6273035 ,  0.87319654,  1.4861746 ]]],\n",
       "\n",
       "\n",
       "       [[[-0.3169974 ,  0.876192  ,  0.6822823 ],\n",
       "         [-0.07099999,  1.0963545 ,  2.3159986 ]],\n",
       "\n",
       "        [[ 1.8285551 ,  1.9872851 ,  6.9679317 ],\n",
       "         [ 1.2500392 ,  3.260276  ,  1.2032799 ]]],\n",
       "\n",
       "\n",
       "       [[[ 0.21210563,  2.0418804 ,  1.8911427 ],\n",
       "         [-0.3604684 ,  0.25526583,  2.6353981 ]],\n",
       "\n",
       "        [[ 2.109381  ,  1.7905011 ,  9.216565  ],\n",
       "         [ 0.96004164,  0.17265737,  1.5731425 ]]],\n",
       "\n",
       "\n",
       "       [[[ 0.25935775, -0.78900075,  0.98651505],\n",
       "         [ 0.24439524,  0.95996463,  3.4455774 ]],\n",
       "\n",
       "        [[ 2.3607748 ,  2.6181455 ,  7.806197  ],\n",
       "         [ 1.2675462 ,  0.91120064,  1.1850257 ]]],\n",
       "\n",
       "\n",
       "       [[[ 0.7133163 ,  0.62564254,  0.44939667],\n",
       "         [-0.35703492,  0.20079592,  3.0801091 ]],\n",
       "\n",
       "        [[ 2.1366138 ,  2.1084766 ,  7.5029616 ],\n",
       "         [ 0.87439173, -1.5512004 ,  0.7818457 ]]],\n",
       "\n",
       "\n",
       "       [[[ 0.24850678,  1.3459339 ,  1.5304453 ],\n",
       "         [ 0.2555606 , -0.17124245,  2.3785362 ]],\n",
       "\n",
       "        [[ 1.215828  ,  0.7767103 ,  7.0755177 ],\n",
       "         [ 1.2185731 ,  3.0483997 ,  1.1863639 ]]],\n",
       "\n",
       "\n",
       "       [[[ 0.42013395,  1.7999351 ,  0.79883134],\n",
       "         [ 0.04660639,  0.5793542 ,  3.251062  ]],\n",
       "\n",
       "        [[ 1.1598232 ,  1.4432156 ,  7.7437077 ],\n",
       "         [ 1.3380175 ,  0.98783475,  0.58968383]]],\n",
       "\n",
       "\n",
       "       [[[ 0.9292687 ,  1.7339215 ,  0.30094206],\n",
       "         [ 0.72055423,  1.4059166 ,  3.7669392 ]],\n",
       "\n",
       "        [[ 1.4625635 ,  0.62689686,  7.9603033 ],\n",
       "         [ 1.7029872 ,  2.4078078 ,  1.2831749 ]]],\n",
       "\n",
       "\n",
       "       [[[-0.35269886,  2.5637589 ,  1.0623659 ],\n",
       "         [ 0.42524886, -1.15728   ,  2.7586875 ]],\n",
       "\n",
       "        [[ 1.6518841 ,  3.3282337 ,  6.978391  ],\n",
       "         [ 1.3311857 ,  0.22551203,  0.5713352 ]]]], dtype=float32)>"
      ]
     },
     "execution_count": 75,
     "metadata": {},
     "output_type": "execute_result"
    }
   ],
   "source": [
    "# Draw some samples\n",
    "\n",
    "n_samples = 10\n",
    "normal_distributions_independent.sample(n_samples)"
   ]
  },
  {
   "cell_type": "code",
   "execution_count": 76,
   "metadata": {},
   "outputs": [
    {
     "data": {
      "text/plain": [
       "<tf.Tensor: shape=(2,), dtype=float32, numpy=array([-21.169395, -86.43596 ], dtype=float32)>"
      ]
     },
     "execution_count": 76,
     "metadata": {},
     "output_type": "execute_result"
    }
   ],
   "source": [
    "# `[B, E]` shaped input\n",
    "# B is (2,) and E is (2, 3)\n",
    "\n",
    "pdf_x = np.random.randn(2, 2, 3)\n",
    "normal_distributions_independent.log_prob(pdf_x)"
   ]
  },
  {
   "cell_type": "code",
   "execution_count": 77,
   "metadata": {},
   "outputs": [
    {
     "data": {
      "text/plain": [
       "<tf.Tensor: shape=(2,), dtype=float32, numpy=array([ -24.877018, -138.3576  ], dtype=float32)>"
      ]
     },
     "execution_count": 77,
     "metadata": {},
     "output_type": "execute_result"
    }
   ],
   "source": [
    "# `[E]` shaped input (broadcasting over batch size)\n",
    "\n",
    "pdf_x = np.random.randn(2, 3)\n",
    "normal_distributions_independent.log_prob(pdf_x)"
   ]
  },
  {
   "cell_type": "code",
   "execution_count": 78,
   "metadata": {},
   "outputs": [
    {
     "data": {
      "text/plain": [
       "<tf.Tensor: shape=(10, 2), dtype=float32, numpy=\n",
       "array([[ -27.667776 ,  -87.66569  ],\n",
       "       [ -26.823105 , -140.65251  ],\n",
       "       [ -19.22052  ,  -88.709785 ],\n",
       "       [ -31.625626 ,  -94.83002  ],\n",
       "       [ -12.5290165, -104.30123  ],\n",
       "       [ -53.99884  ,  -93.691895 ],\n",
       "       [ -24.50599  ,  -87.183784 ],\n",
       "       [ -32.857033 ,  -70.50371  ],\n",
       "       [ -18.591763 ,  -46.89053  ],\n",
       "       [  -7.9504414,  -86.91578  ]], dtype=float32)>"
      ]
     },
     "execution_count": 78,
     "metadata": {},
     "output_type": "execute_result"
    }
   ],
   "source": [
    "#`[S, B, E]` shaped input (broadcasting over samples)\n",
    "\n",
    "pdf_x = np.random.randn(10, 2, 2, 3)\n",
    "normal_distributions_independent.log_prob(pdf_x)"
   ]
  },
  {
   "cell_type": "code",
   "execution_count": 79,
   "metadata": {},
   "outputs": [
    {
     "data": {
      "text/plain": [
       "<tf.Tensor: shape=(5, 2), dtype=float32, numpy=\n",
       "array([[ -17.413269, -107.97125 ],\n",
       "       [ -26.140238, -124.52979 ],\n",
       "       [ -11.370785,  -74.52379 ],\n",
       "       [ -27.17966 , -127.7442  ],\n",
       "       [  -9.741625,  -64.30774 ]], dtype=float32)>"
      ]
     },
     "execution_count": 79,
     "metadata": {},
     "output_type": "execute_result"
    }
   ],
   "source": [
    "# `[S, b, e]` shaped input, where [b, e] is broadcastable over [B, E]\n",
    "\n",
    "pdf_x = np.random.randn(5, 1, 2, 1)\n",
    "normal_distributions_independent.log_prob(pdf_x)"
   ]
  },
  {
   "cell_type": "markdown",
   "metadata": {},
   "source": [
    "#### Naive Bayes example\n",
    "\n",
    "Lets now use what we have learned and continue the Naive Bayes classifier we were building last tutorial."
   ]
  },
  {
   "cell_type": "code",
   "execution_count": 80,
   "metadata": {},
   "outputs": [],
   "source": [
    "from sklearn.datasets import fetch_20newsgroups\n",
    "from sklearn.feature_extraction.text import CountVectorizer\n",
    "from sklearn.naive_bayes import BernoulliNB\n",
    "from sklearn.metrics import f1_score"
   ]
  },
  {
   "cell_type": "code",
   "execution_count": 81,
   "metadata": {},
   "outputs": [],
   "source": [
    "# Making a function get_data which:\n",
    "#   1) Fetches the 20 newsgroup dataset\n",
    "#   2) Performs a word count on the articles and binarizes the result\n",
    "#   3) Returns the data as a numpy matrix with the labels\n",
    "\n",
    "def get_data(categories, data_root='./'):\n",
    "    \n",
    "    newsgroups_train_data = fetch_20newsgroups(data_home=data_root,\n",
    "                                               subset='train',\n",
    "                                               categories=categories)\n",
    "    newsgroups_test_data = fetch_20newsgroups(data_home=data_root,\n",
    "                                              subset='test',\n",
    "                                              categories=categories)\n",
    "\n",
    "    n_documents = len(newsgroups_train_data.data)\n",
    "    count_vectorizer = CountVectorizer(input='content', binary=True,\n",
    "                                       max_df=0.25, min_df=1.01/n_documents)\n",
    "    \n",
    "    train_binary_bag_of_words = count_vectorizer.fit_transform(newsgroups_train_data.data)\n",
    "    test_binary_bag_of_words = count_vectorizer.transform(newsgroups_test_data.data) \n",
    "\n",
    "    return (train_binary_bag_of_words.todense(), newsgroups_train_data.target), (test_binary_bag_of_words.todense(), newsgroups_test_data.target)"
   ]
  },
  {
   "cell_type": "code",
   "execution_count": 82,
   "metadata": {},
   "outputs": [],
   "source": [
    "# Defining a function to conduct Laplace smoothing. This adds a base level of probability for a given feature\n",
    "# to occur in every class.\n",
    "\n",
    "def laplace_smoothing(labels, binary_data, n_classes):\n",
    "    # Compute the parameter estimates (adjusted fraction of documents in class that contain word)\n",
    "    n_words = binary_data.shape[1]\n",
    "    alpha = 1e-6 # parameters for Laplace smoothing\n",
    "    theta = np.zeros([n_classes, n_words]) # stores parameter values - prob. word given class\n",
    "    for c_k in range(n_classes):\n",
    "        class_mask = (labels == c_k)\n",
    "        N = class_mask.sum() # number of articles in class\n",
    "        word_count = binary_data[class_mask].sum(axis=0)  # occurrences of each word for the given class\n",
    "        theta[c_k, :] = (word_count + alpha)/(N + alpha*2)\n",
    "\n",
    "    return theta"
   ]
  },
  {
   "cell_type": "code",
   "execution_count": 83,
   "metadata": {},
   "outputs": [],
   "source": [
    "# Getting a subset of the 20 newsgroup dataset\n",
    "\n",
    "categories = ['alt.atheism', 'talk.religion.misc', 'comp.graphics', 'sci.space']\n",
    "\n",
    "(train_data, train_labels), (test_data, test_labels) = get_data(categories=categories)\n",
    "smoothed_counts = laplace_smoothing(labels=train_labels, binary_data=train_data, n_classes=len(categories))"
   ]
  },
  {
   "cell_type": "code",
   "execution_count": 84,
   "metadata": {},
   "outputs": [
    {
     "data": {
      "text/plain": [
       "((2034, 17495), (2034,))"
      ]
     },
     "execution_count": 84,
     "metadata": {},
     "output_type": "execute_result"
    }
   ],
   "source": [
    "train_data.shape, train_labels.shape"
   ]
  },
  {
   "cell_type": "code",
   "execution_count": 85,
   "metadata": {},
   "outputs": [
    {
     "data": {
      "text/plain": [
       "((1353, 17495), (1353,))"
      ]
     },
     "execution_count": 85,
     "metadata": {},
     "output_type": "execute_result"
    }
   ],
   "source": [
    "test_data.shape, test_labels.shape"
   ]
  },
  {
   "cell_type": "code",
   "execution_count": 86,
   "metadata": {},
   "outputs": [
    {
     "data": {
      "text/plain": [
       "(4, 17495)"
      ]
     },
     "execution_count": 86,
     "metadata": {},
     "output_type": "execute_result"
    }
   ],
   "source": [
    "smoothed_counts.shape"
   ]
  },
  {
   "cell_type": "markdown",
   "metadata": {},
   "source": [
    "To now make our NB classifier we need to build three functions:\n",
    "* Compute the class priors\n",
    "* Build our class conditional distributions\n",
    "* Put it all together and classify our data"
   ]
  },
  {
   "cell_type": "code",
   "execution_count": 87,
   "metadata": {},
   "outputs": [],
   "source": [
    "# Function which computes the prior probability of every class based on frequency of occurence in \n",
    "# the dataset\n",
    "\n",
    "def class_priors(n_classes, labels):\n",
    "    counts = [(labels == c_k).sum() for c_k in range(n_classes)]  # the amount of c_k in labels\n",
    "    priors = counts / np.sum(counts)\n",
    "    return priors"
   ]
  },
  {
   "cell_type": "code",
   "execution_count": 88,
   "metadata": {},
   "outputs": [
    {
     "name": "stdout",
     "output_type": "stream",
     "text": [
      "The class priors are [0.2359882  0.28711898 0.29154376 0.18534907]\n"
     ]
    }
   ],
   "source": [
    "# Run the function \n",
    "\n",
    "priors = class_priors(len(categories), train_labels)\n",
    "print('The class priors are {}'.format(priors))"
   ]
  },
  {
   "cell_type": "code",
   "execution_count": 89,
   "metadata": {},
   "outputs": [],
   "source": [
    "# Now we will do a function that gives the feature occurence counts returns a Bernoulli distribution of \n",
    "# batch_shape=number of classes and event_shape=number of features.\n",
    "\n",
    "def make_distribution(probs):\n",
    "    batch_of_bernoulli = tfd.Bernoulli(probs=probs)\n",
    "    return tfd.Independent(batch_of_bernoulli, reinterpreted_batch_ndims=1)"
   ]
  },
  {
   "cell_type": "code",
   "execution_count": 90,
   "metadata": {},
   "outputs": [
    {
     "data": {
      "text/plain": [
       "<tfp.distributions.Independent 'IndependentBernoulli' batch_shape=[4] event_shape=[17495] dtype=int32>"
      ]
     },
     "execution_count": 90,
     "metadata": {},
     "output_type": "execute_result"
    }
   ],
   "source": [
    "p_x_given_y = make_distribution(smoothed_counts)\n",
    "p_x_given_y"
   ]
  },
  {
   "cell_type": "code",
   "execution_count": 91,
   "metadata": {},
   "outputs": [],
   "source": [
    "# The final function predict_sample which given the distribution, a test sample, and the class priors:\n",
    "#   1) Computes the class conditional probabilities given the sample\n",
    "#   2) Forms the joint likelihood\n",
    "#   3) Normalises the joint likelihood and returns the log prob\n",
    "\n",
    "def predict_sample(dist, sample, priors):\n",
    "    # log p(x=sample | y), shape: (4,), one for each y\n",
    "    cond_log_probs = dist.log_prob(sample)\n",
    "    # log p(x=sample, y) = log(p(x=sample | y) * p(y)) = log p(x=sample | y) + log p(y)\n",
    "    joint_log_likelihood = tf.add(cond_log_probs, np.log(priors))\n",
    "    # log p(x=sample) = log \\sum_y{p(x=sample, y)} = log \\sum_y{exp(log p(x=sample, y))}\n",
    "    normalization_term = tf.reduce_logsumexp(joint_log_likelihood, axis=-1)\n",
    "    # log p(y | x=sample) = log(p(x=sample, y) / p(x=sample)) = log p(x=sample, y) - log p(x=sample)\n",
    "    log_posterior_prob = joint_log_likelihood - normalization_term\n",
    "    \n",
    "    return log_posterior_prob"
   ]
  },
  {
   "cell_type": "markdown",
   "metadata": {},
   "source": [
    "#### Computing log_probs"
   ]
  },
  {
   "cell_type": "code",
   "execution_count": 92,
   "metadata": {},
   "outputs": [
    {
     "data": {
      "text/plain": [
       "<tf.Tensor: shape=(4,), dtype=float32, numpy=array([-128.03513 ,  -17.117233,    0.      ,  -65.025314], dtype=float32)>"
      ]
     },
     "execution_count": 92,
     "metadata": {},
     "output_type": "execute_result"
    }
   ],
   "source": [
    "# Predicting one example from our test data\n",
    "\n",
    "predict_sample(p_x_given_y, test_data[0], priors)"
   ]
  },
  {
   "cell_type": "code",
   "execution_count": 93,
   "metadata": {},
   "outputs": [
    {
     "name": "stdout",
     "output_type": "stream",
     "text": [
      "F1 score from TensorFlow Probability: 0.8799168247497399\n"
     ]
    }
   ],
   "source": [
    "# Loop over our test data and classify.\n",
    "\n",
    "posterior_probs_with_labels = []\n",
    "for sample, label in zip(test_data, test_labels):\n",
    "    posterior_probs_with_labels.append({label: tf.exp(predict_sample(p_x_given_y, sample, priors))})\n",
    "\n",
    "posterior_probs = np.asarray([prob for label_prob_dict in posterior_probs_with_labels \n",
    "                                   for label, prob in label_prob_dict.items()])\n",
    "predicted_classes_tfp = np.argmax(posterior_probs, axis=-1)\n",
    "print('F1 score from TensorFlow Probability:', f1_score(test_labels, predicted_classes_tfp, average='macro'))"
   ]
  },
  {
   "cell_type": "code",
   "execution_count": 94,
   "metadata": {},
   "outputs": [
    {
     "data": {
      "text/plain": [
       "[{2: <tf.Tensor: shape=(4,), dtype=float32, numpy=\n",
       "  array([0.000000e+00, 3.681968e-08, 1.000000e+00, 5.752608e-29],\n",
       "        dtype=float32)>},\n",
       " {1: <tf.Tensor: shape=(4,), dtype=float32, numpy=\n",
       "  array([9.5367737e-27, 1.0000000e+00, 5.4366625e-29, 0.0000000e+00],\n",
       "        dtype=float32)>},\n",
       " {1: <tf.Tensor: shape=(4,), dtype=float32, numpy=\n",
       "  array([2.5009057e-22, 1.0000000e+00, 1.6688022e-11, 0.0000000e+00],\n",
       "        dtype=float32)>},\n",
       " {1: <tf.Tensor: shape=(4,), dtype=float32, numpy=array([0., 1., 0., 0.], dtype=float32)>},\n",
       " {1: <tf.Tensor: shape=(4,), dtype=float32, numpy=\n",
       "  array([0.0000000e+00, 1.0000000e+00, 8.2386026e-20, 0.0000000e+00],\n",
       "        dtype=float32)>},\n",
       " {1: <tf.Tensor: shape=(4,), dtype=float32, numpy=array([0., 1., 0., 0.], dtype=float32)>},\n",
       " {2: <tf.Tensor: shape=(4,), dtype=float32, numpy=\n",
       "  array([2.3205582e-31, 0.0000000e+00, 1.0000000e+00, 0.0000000e+00],\n",
       "        dtype=float32)>},\n",
       " {2: <tf.Tensor: shape=(4,), dtype=float32, numpy=array([0., 0., 1., 0.], dtype=float32)>},\n",
       " {0: <tf.Tensor: shape=(4,), dtype=float32, numpy=array([1., 0., 0., 0.], dtype=float32)>},\n",
       " {2: <tf.Tensor: shape=(4,), dtype=float32, numpy=array([0., 0., 1., 0.], dtype=float32)>}]"
      ]
     },
     "execution_count": 94,
     "metadata": {},
     "output_type": "execute_result"
    }
   ],
   "source": [
    "posterior_probs_with_labels[:10]"
   ]
  },
  {
   "cell_type": "code",
   "execution_count": 95,
   "metadata": {},
   "outputs": [
    {
     "name": "stdout",
     "output_type": "stream",
     "text": [
      "F1 score from scikit-learn (for reference): 0.8799168247497399\n"
     ]
    }
   ],
   "source": [
    "# Make a Bernoulli Naive Bayes classifier using scikit-learn with the same level of alpha smoothing. \n",
    "\n",
    "clf = BernoulliNB(alpha=1e-6)\n",
    "clf.fit(train_data, train_labels)\n",
    "predicted_classes_sklearn = clf.predict(test_data)\n",
    "print('F1 score from scikit-learn (for reference):', f1_score(test_labels, predicted_classes_sklearn, average='macro'))"
   ]
  },
  {
   "cell_type": "markdown",
   "metadata": {},
   "source": [
    "***\n",
    "<a id='trainable_distributions'></a>\n",
    "## Trainable Distributions"
   ]
  },
  {
   "cell_type": "code",
   "execution_count": 96,
   "metadata": {},
   "outputs": [],
   "source": [
    "from sklearn.datasets import fetch_20newsgroups\n",
    "from sklearn.feature_extraction.text import CountVectorizer\n",
    "from sklearn.naive_bayes import BernoulliNB\n",
    "from sklearn.metrics import f1_score"
   ]
  },
  {
   "cell_type": "code",
   "execution_count": 97,
   "metadata": {},
   "outputs": [],
   "source": [
    "# Define an exponential distribution\n",
    "\n",
    "exponential = tfd.Exponential(rate=1)"
   ]
  },
  {
   "cell_type": "code",
   "execution_count": 98,
   "metadata": {},
   "outputs": [
    {
     "data": {
      "text/plain": [
       "(array([9.24806149e-01, 7.57827261e-01, 7.05225853e-01, 5.46809985e-01,\n",
       "        4.44053665e-01, 4.13471607e-01, 3.71879789e-01, 2.67900145e-01,\n",
       "        2.69123433e-01, 2.02454219e-01, 1.85939827e-01, 1.56581021e-01,\n",
       "        1.38843125e-01, 1.03979584e-01, 9.48049150e-02, 8.50184772e-02,\n",
       "        6.05528167e-02, 7.03390279e-02, 4.70966352e-02, 4.52617013e-02,\n",
       "        3.60869795e-02, 3.36404537e-02, 2.69123630e-02, 1.83493116e-02,\n",
       "        2.01842722e-02, 9.78631380e-03, 1.03979281e-02, 1.40678261e-02,\n",
       "        9.17466919e-03, 6.72809074e-03, 4.89315690e-03, 5.50480151e-03,\n",
       "        1.83492849e-03, 6.11644613e-03, 3.05822306e-03, 3.05822306e-03,\n",
       "        3.66986768e-03, 1.22328566e-03, 2.44657845e-03, 6.11644613e-04,\n",
       "        6.11644613e-04, 6.11644613e-04, 1.22328566e-03, 1.22328923e-03,\n",
       "        0.00000000e+00, 6.11644613e-04, 6.11644613e-04, 6.11642829e-04,\n",
       "        6.11646397e-04, 6.11642829e-04]),\n",
       " array([1.1563368e-05, 1.6350529e-01, 3.2699901e-01, 4.9049273e-01,\n",
       "        6.5398645e-01, 8.1748021e-01, 9.8097390e-01, 1.1444676e+00,\n",
       "        1.3079613e+00, 1.4714551e+00, 1.6349488e+00, 1.7984426e+00,\n",
       "        1.9619362e+00, 2.1254301e+00, 2.2889237e+00, 2.4524174e+00,\n",
       "        2.6159112e+00, 2.7794049e+00, 2.9428988e+00, 3.1063924e+00,\n",
       "        3.2698860e+00, 3.4333799e+00, 3.5968735e+00, 3.7603672e+00,\n",
       "        3.9238610e+00, 4.0873547e+00, 4.2508483e+00, 4.4143424e+00,\n",
       "        4.5778360e+00, 4.7413297e+00, 4.9048233e+00, 5.0683169e+00,\n",
       "        5.2318106e+00, 5.3953047e+00, 5.5587983e+00, 5.7222919e+00,\n",
       "        5.8857856e+00, 6.0492792e+00, 6.2127733e+00, 6.3762670e+00,\n",
       "        6.5397606e+00, 6.7032542e+00, 6.8667479e+00, 7.0302420e+00,\n",
       "        7.1937356e+00, 7.3572292e+00, 7.5207229e+00, 7.6842165e+00,\n",
       "        7.8477106e+00, 8.0112038e+00, 8.1746979e+00], dtype=float32),\n",
       " <BarContainer object of 50 artists>)"
      ]
     },
     "execution_count": 98,
     "metadata": {},
     "output_type": "execute_result"
    },
    {
     "data": {
      "image/png": "[encoded data removed]",
      "text/plain": [
       "<Figure size 432x288 with 1 Axes>"
      ]
     },
     "metadata": {
      "needs_background": "light"
     },
     "output_type": "display_data"
    }
   ],
   "source": [
    "# Plot\n",
    "\n",
    "plt.hist(exponential.sample(10000).numpy(), bins=50, density=True)"
   ]
  },
  {
   "cell_type": "code",
   "execution_count": 99,
   "metadata": {},
   "outputs": [
    {
     "data": {
      "text/plain": [
       "(<tf.Variable 'rate:0' shape=() dtype=float32, numpy=0.25>,)"
      ]
     },
     "execution_count": 99,
     "metadata": {},
     "output_type": "execute_result"
    }
   ],
   "source": [
    "# Define an exponential distribution with a trainable rate parameter\n",
    "\n",
    "exponential_trainable = tfd.Exponential(rate=tf.Variable(\n",
    "    0.25,\n",
    "    name='rate',\n",
    "    constraint=lambda v: tf.clip_by_value(v, 0, 1)  # probs must be between [eps, 1]\n",
    "))\n",
    "exponential_trainable.trainable_variables"
   ]
  },
  {
   "cell_type": "code",
   "execution_count": 100,
   "metadata": {},
   "outputs": [
    {
     "data": {
      "text/plain": [
       "<tf.Tensor: shape=(), dtype=float32, numpy=0.25>"
      ]
     },
     "execution_count": 100,
     "metadata": {},
     "output_type": "execute_result"
    }
   ],
   "source": [
    "exponential_trainable.rate.value()"
   ]
  },
  {
   "cell_type": "code",
   "execution_count": 101,
   "metadata": {},
   "outputs": [],
   "source": [
    "# Define the negative log likelihood\n",
    "\n",
    "def nll(dist, x):\n",
    "    return -tf.reduce_mean(dist.log_prob(x))"
   ]
  },
  {
   "cell_type": "code",
   "execution_count": 102,
   "metadata": {},
   "outputs": [],
   "source": [
    "# Define a function to compute the loss and gradients\n",
    "\n",
    "@tf.function\n",
    "def get_loss_and_grads(dist, x_train):\n",
    "    with tf.GradientTape() as tape:\n",
    "        trainables = dist.trainable_variables\n",
    "        tape.watch(trainables)\n",
    "        loss = nll(dist, x_train)\n",
    "        grads = tape.gradient(loss, trainables)\n",
    "    return loss, grads"
   ]
  },
  {
   "cell_type": "code",
   "execution_count": 103,
   "metadata": {},
   "outputs": [],
   "source": [
    "# Optimize\n",
    "\n",
    "def exponential_dist_optimisation(distribution, data, num_steps=10):\n",
    "\n",
    "    # Keep results for plotting\n",
    "    train_loss_results = []\n",
    "    train_rate_results = []\n",
    "    \n",
    "    optimizer = tf.keras.optimizers.SGD(learning_rate=0.05)\n",
    "\n",
    "    for i in range(num_steps):\n",
    "        \n",
    "        loss, grads = get_loss_and_grads(distribution, data)\n",
    "        optimizer.apply_gradients(zip(grads, distribution.trainable_variables))\n",
    "        rate = distribution.rate.value()\n",
    "        \n",
    "        train_loss_results.append(loss)\n",
    "        train_rate_results.append(rate.numpy())\n",
    "        \n",
    "        print(\"Step {:03d}: Loss: {:.3f}: Rate: {:.3f}\".format(i, loss, rate))\n",
    "        \n",
    "    return train_loss_results, train_rate_results"
   ]
  },
  {
   "cell_type": "code",
   "execution_count": 104,
   "metadata": {},
   "outputs": [
    {
     "name": "stdout",
     "output_type": "stream",
     "text": [
      "Step 000: Loss: 1.636: Rate: 0.400\n",
      "Step 001: Loss: 1.316: Rate: 0.475\n",
      "Step 002: Loss: 1.219: Rate: 0.530\n",
      "Step 003: Loss: 1.165: Rate: 0.575\n",
      "Step 004: Loss: 1.129: Rate: 0.612\n",
      "Step 005: Loss: 1.103: Rate: 0.643\n",
      "Step 006: Loss: 1.084: Rate: 0.671\n",
      "Step 007: Loss: 1.070: Rate: 0.696\n",
      "Step 008: Loss: 1.058: Rate: 0.717\n",
      "Step 009: Loss: 1.049: Rate: 0.737\n",
      "Step 010: Loss: 1.042: Rate: 0.755\n",
      "Step 011: Loss: 1.036: Rate: 0.771\n",
      "Step 012: Loss: 1.031: Rate: 0.786\n",
      "Step 013: Loss: 1.027: Rate: 0.800\n",
      "Step 014: Loss: 1.023: Rate: 0.812\n",
      "Step 015: Loss: 1.020: Rate: 0.824\n",
      "Step 016: Loss: 1.018: Rate: 0.834\n",
      "Step 017: Loss: 1.015: Rate: 0.844\n",
      "Step 018: Loss: 1.013: Rate: 0.854\n",
      "Step 019: Loss: 1.012: Rate: 0.862\n",
      "Step 020: Loss: 1.010: Rate: 0.870\n",
      "Step 021: Loss: 1.009: Rate: 0.878\n",
      "Step 022: Loss: 1.008: Rate: 0.885\n",
      "Step 023: Loss: 1.007: Rate: 0.891\n",
      "Step 024: Loss: 1.006: Rate: 0.897\n",
      "Step 025: Loss: 1.006: Rate: 0.903\n",
      "Step 026: Loss: 1.005: Rate: 0.908\n",
      "Step 027: Loss: 1.004: Rate: 0.913\n",
      "Step 028: Loss: 1.004: Rate: 0.918\n",
      "Step 029: Loss: 1.003: Rate: 0.923\n",
      "Step 030: Loss: 1.003: Rate: 0.927\n",
      "Step 031: Loss: 1.003: Rate: 0.931\n",
      "Step 032: Loss: 1.002: Rate: 0.935\n",
      "Step 033: Loss: 1.002: Rate: 0.938\n",
      "Step 034: Loss: 1.002: Rate: 0.941\n",
      "Step 035: Loss: 1.002: Rate: 0.944\n",
      "Step 036: Loss: 1.001: Rate: 0.947\n",
      "Step 037: Loss: 1.001: Rate: 0.950\n",
      "Step 038: Loss: 1.001: Rate: 0.953\n",
      "Step 039: Loss: 1.001: Rate: 0.955\n",
      "Step 040: Loss: 1.001: Rate: 0.958\n",
      "Step 041: Loss: 1.001: Rate: 0.960\n",
      "Step 042: Loss: 1.001: Rate: 0.962\n",
      "Step 043: Loss: 1.001: Rate: 0.964\n",
      "Step 044: Loss: 1.001: Rate: 0.966\n",
      "Step 045: Loss: 1.000: Rate: 0.968\n",
      "Step 046: Loss: 1.000: Rate: 0.969\n",
      "Step 047: Loss: 1.000: Rate: 0.971\n",
      "Step 048: Loss: 1.000: Rate: 0.972\n",
      "Step 049: Loss: 1.000: Rate: 0.974\n",
      "Step 050: Loss: 1.000: Rate: 0.975\n",
      "Step 051: Loss: 1.000: Rate: 0.976\n",
      "Step 052: Loss: 1.000: Rate: 0.978\n",
      "Step 053: Loss: 1.000: Rate: 0.979\n",
      "Step 054: Loss: 1.000: Rate: 0.980\n",
      "Step 055: Loss: 1.000: Rate: 0.981\n",
      "Step 056: Loss: 1.000: Rate: 0.982\n",
      "Step 057: Loss: 1.000: Rate: 0.983\n",
      "Step 058: Loss: 1.000: Rate: 0.984\n",
      "Step 059: Loss: 1.000: Rate: 0.985\n",
      "Step 060: Loss: 1.000: Rate: 0.985\n",
      "Step 061: Loss: 1.000: Rate: 0.986\n",
      "Step 062: Loss: 1.000: Rate: 0.987\n",
      "Step 063: Loss: 1.000: Rate: 0.987\n",
      "Step 064: Loss: 1.000: Rate: 0.988\n",
      "Step 065: Loss: 1.000: Rate: 0.989\n",
      "Step 066: Loss: 1.000: Rate: 0.989\n",
      "Step 067: Loss: 1.000: Rate: 0.990\n",
      "Step 068: Loss: 1.000: Rate: 0.990\n",
      "Step 069: Loss: 1.000: Rate: 0.991\n",
      "Step 070: Loss: 1.000: Rate: 0.991\n",
      "Step 071: Loss: 1.000: Rate: 0.992\n",
      "Step 072: Loss: 1.000: Rate: 0.992\n",
      "Step 073: Loss: 1.000: Rate: 0.993\n",
      "Step 074: Loss: 1.000: Rate: 0.993\n",
      "Step 075: Loss: 1.000: Rate: 0.993\n",
      "Step 076: Loss: 1.000: Rate: 0.994\n",
      "Step 077: Loss: 1.000: Rate: 0.994\n",
      "Step 078: Loss: 1.000: Rate: 0.994\n",
      "Step 079: Loss: 1.000: Rate: 0.995\n",
      "Step 080: Loss: 1.000: Rate: 0.995\n",
      "Step 081: Loss: 1.000: Rate: 0.995\n",
      "Step 082: Loss: 1.000: Rate: 0.995\n",
      "Step 083: Loss: 1.000: Rate: 0.996\n",
      "Step 084: Loss: 1.000: Rate: 0.996\n",
      "Step 085: Loss: 1.000: Rate: 0.996\n",
      "Step 086: Loss: 1.000: Rate: 0.996\n",
      "Step 087: Loss: 1.000: Rate: 0.996\n",
      "Step 088: Loss: 1.000: Rate: 0.997\n",
      "Step 089: Loss: 1.000: Rate: 0.997\n",
      "Step 090: Loss: 1.000: Rate: 0.997\n",
      "Step 091: Loss: 1.000: Rate: 0.997\n",
      "Step 092: Loss: 1.000: Rate: 0.997\n",
      "Step 093: Loss: 1.000: Rate: 0.997\n",
      "Step 094: Loss: 1.000: Rate: 0.998\n",
      "Step 095: Loss: 1.000: Rate: 0.998\n",
      "Step 096: Loss: 1.000: Rate: 0.998\n",
      "Step 097: Loss: 1.000: Rate: 0.998\n",
      "Step 098: Loss: 1.000: Rate: 0.998\n",
      "Step 099: Loss: 1.000: Rate: 0.998\n",
      "Step 100: Loss: 1.000: Rate: 0.998\n",
      "Step 101: Loss: 1.000: Rate: 0.998\n",
      "Step 102: Loss: 1.000: Rate: 0.998\n",
      "Step 103: Loss: 1.000: Rate: 0.999\n",
      "Step 104: Loss: 1.000: Rate: 0.999\n",
      "Step 105: Loss: 1.000: Rate: 0.999\n",
      "Step 106: Loss: 1.000: Rate: 0.999\n",
      "Step 107: Loss: 1.000: Rate: 0.999\n",
      "Step 108: Loss: 1.000: Rate: 0.999\n",
      "Step 109: Loss: 1.000: Rate: 0.999\n",
      "Step 110: Loss: 1.000: Rate: 0.999\n",
      "Step 111: Loss: 1.000: Rate: 0.999\n",
      "Step 112: Loss: 1.000: Rate: 0.999\n",
      "Step 113: Loss: 1.000: Rate: 0.999\n",
      "Step 114: Loss: 1.000: Rate: 0.999\n",
      "Step 115: Loss: 1.000: Rate: 0.999\n",
      "Step 116: Loss: 1.000: Rate: 0.999\n",
      "Step 117: Loss: 1.000: Rate: 0.999\n",
      "Step 118: Loss: 1.000: Rate: 0.999\n",
      "Step 119: Loss: 1.000: Rate: 0.999\n",
      "Step 120: Loss: 1.000: Rate: 0.999\n",
      "Step 121: Loss: 1.000: Rate: 1.000\n",
      "Step 122: Loss: 1.000: Rate: 1.000\n",
      "Step 123: Loss: 1.000: Rate: 1.000\n",
      "Step 124: Loss: 1.000: Rate: 1.000\n",
      "Step 125: Loss: 1.000: Rate: 1.000\n",
      "Step 126: Loss: 1.000: Rate: 1.000\n",
      "Step 127: Loss: 1.000: Rate: 1.000\n",
      "Step 128: Loss: 1.000: Rate: 1.000\n",
      "Step 129: Loss: 1.000: Rate: 1.000\n",
      "Step 130: Loss: 1.000: Rate: 1.000\n",
      "Step 131: Loss: 1.000: Rate: 1.000\n",
      "Step 132: Loss: 1.000: Rate: 1.000\n",
      "Step 133: Loss: 1.000: Rate: 1.000\n",
      "Step 134: Loss: 1.000: Rate: 1.000\n",
      "Step 135: Loss: 1.000: Rate: 1.000\n",
      "Step 136: Loss: 1.000: Rate: 1.000\n",
      "Step 137: Loss: 1.000: Rate: 1.000\n",
      "Step 138: Loss: 1.000: Rate: 1.000\n",
      "Step 139: Loss: 1.000: Rate: 1.000\n",
      "Step 140: Loss: 1.000: Rate: 1.000\n",
      "Step 141: Loss: 1.000: Rate: 1.000\n",
      "Step 142: Loss: 1.000: Rate: 1.000\n",
      "Step 143: Loss: 1.000: Rate: 1.000\n",
      "Step 144: Loss: 1.000: Rate: 1.000\n",
      "Step 145: Loss: 1.000: Rate: 1.000\n",
      "Step 146: Loss: 1.000: Rate: 1.000\n",
      "Step 147: Loss: 1.000: Rate: 1.000\n",
      "Step 148: Loss: 1.000: Rate: 1.000\n",
      "Step 149: Loss: 1.000: Rate: 1.000\n",
      "Step 150: Loss: 1.000: Rate: 1.000\n",
      "Step 151: Loss: 1.000: Rate: 1.000\n",
      "Step 152: Loss: 1.000: Rate: 1.000\n",
      "Step 153: Loss: 1.000: Rate: 1.000\n",
      "Step 154: Loss: 1.000: Rate: 1.000\n",
      "Step 155: Loss: 1.000: Rate: 1.000\n",
      "Step 156: Loss: 1.000: Rate: 1.000\n",
      "Step 157: Loss: 1.000: Rate: 1.000\n",
      "Step 158: Loss: 1.000: Rate: 1.000\n",
      "Step 159: Loss: 1.000: Rate: 1.000\n",
      "Step 160: Loss: 1.000: Rate: 1.000\n",
      "Step 161: Loss: 1.000: Rate: 1.000\n",
      "Step 162: Loss: 1.000: Rate: 1.000\n",
      "Step 163: Loss: 1.000: Rate: 1.000\n",
      "Step 164: Loss: 1.000: Rate: 1.000\n",
      "Step 165: Loss: 1.000: Rate: 1.000\n",
      "Step 166: Loss: 1.000: Rate: 1.000\n",
      "Step 167: Loss: 1.000: Rate: 1.000\n",
      "Step 168: Loss: 1.000: Rate: 1.000\n",
      "Step 169: Loss: 1.000: Rate: 1.000\n",
      "Step 170: Loss: 1.000: Rate: 1.000\n",
      "Step 171: Loss: 1.000: Rate: 1.000\n",
      "Step 172: Loss: 1.000: Rate: 1.000\n",
      "Step 173: Loss: 1.000: Rate: 1.000\n",
      "Step 174: Loss: 1.000: Rate: 1.000\n",
      "Step 175: Loss: 1.000: Rate: 1.000\n",
      "Step 176: Loss: 1.000: Rate: 1.000\n",
      "Step 177: Loss: 1.000: Rate: 1.000\n",
      "Step 178: Loss: 1.000: Rate: 1.000\n",
      "Step 179: Loss: 1.000: Rate: 1.000\n",
      "Step 180: Loss: 1.000: Rate: 1.000\n",
      "Step 181: Loss: 1.000: Rate: 1.000\n",
      "Step 182: Loss: 1.000: Rate: 1.000\n",
      "Step 183: Loss: 1.000: Rate: 1.000\n",
      "Step 184: Loss: 1.000: Rate: 1.000\n",
      "Step 185: Loss: 1.000: Rate: 1.000\n",
      "Step 186: Loss: 1.000: Rate: 1.000\n",
      "Step 187: Loss: 1.000: Rate: 1.000\n",
      "Step 188: Loss: 1.000: Rate: 1.000\n",
      "Step 189: Loss: 1.000: Rate: 1.000\n",
      "Step 190: Loss: 1.000: Rate: 1.000\n",
      "Step 191: Loss: 1.000: Rate: 1.000\n",
      "Step 192: Loss: 1.000: Rate: 1.000\n",
      "Step 193: Loss: 1.000: Rate: 1.000\n",
      "Step 194: Loss: 1.000: Rate: 1.000\n",
      "Step 195: Loss: 1.000: Rate: 1.000\n",
      "Step 196: Loss: 1.000: Rate: 1.000\n",
      "Step 197: Loss: 1.000: Rate: 1.000\n",
      "Step 198: Loss: 1.000: Rate: 1.000\n",
      "Step 199: Loss: 1.000: Rate: 1.000\n"
     ]
    }
   ],
   "source": [
    "# Get some data and train\n",
    "\n",
    "samples = exponential.sample(10000)\n",
    "train_loss_results, train_rate_results = exponential_dist_optimisation(exponential_trainable, samples, num_steps=200)"
   ]
  },
  {
   "cell_type": "code",
   "execution_count": 105,
   "metadata": {},
   "outputs": [
    {
     "name": "stdout",
     "output_type": "stream",
     "text": [
      "Exact rate: 1.0\n",
      "Pred rate: 1.0\n"
     ]
    }
   ],
   "source": [
    "# Predicted value for the rate parameter\n",
    "\n",
    "exact_value = exponential.rate.numpy()\n",
    "pred_value = exponential_trainable.rate.numpy()\n",
    "\n",
    "print(\"Exact rate:\", exact_value)\n",
    "print(\"Pred rate:\", pred_value)"
   ]
  },
  {
   "cell_type": "code",
   "execution_count": 106,
   "metadata": {},
   "outputs": [
    {
     "data": {
      "image/png": "[encoded data removed]",
      "text/plain": [
       "<Figure size 864x576 with 2 Axes>"
      ]
     },
     "metadata": {
      "needs_background": "light"
     },
     "output_type": "display_data"
    }
   ],
   "source": [
    "# Plot to see the convergence of the estimated and true parameters\n",
    "\n",
    "tensor_exact_value = tf.constant(exact_value, shape=[len(train_rate_results)])\n",
    "\n",
    "fig, axes = plt.subplots(2, sharex=True, figsize=(12, 8))\n",
    "fig.suptitle('Convergence')\n",
    "\n",
    "axes[0].set_ylabel(\"Loss\", fontsize=14)\n",
    "axes[0].plot(train_loss_results)\n",
    "\n",
    "axes[1].set_ylabel(\"Rate\", fontsize=14)\n",
    "axes[1].set_xlabel(\"Epoch\", fontsize=14)\n",
    "axes[1].plot(train_rate_results, label='trainable rate variable')\n",
    "axes[1].plot(tensor_exact_value, label='exact rate')\n",
    "axes[1].legend()\n",
    "plt.show()"
   ]
  },
  {
   "cell_type": "code",
   "execution_count": 107,
   "metadata": {},
   "outputs": [],
   "source": [
    "# Now we learn the distribution using gradient tape\n",
    "# So no posterior probabilities need to be calculated\n",
    "\n",
    "def make_learnable_distributions(data, labels, num_classes, num_steps=100, eps=1e-9):\n",
    "\n",
    "    class_data = []\n",
    "    train_vars = []\n",
    "    distributions = []\n",
    "    \n",
    "    # need num_classes learnable distributions, each for p(x | y=c)\n",
    "    for c in range(num_classes):\n",
    "        train_vars.append(tf.Variable(\n",
    "            name='probs_class_{:d}'.format(c),\n",
    "            initial_value=np.random.uniform(low=0.01, high=0.1, size=data.shape[-1]),\n",
    "            constraint=lambda v: tf.clip_by_value(v, eps, 1)  # probs must be between [eps, 1]\n",
    "        ))\n",
    "        distributions.append(tfd.Bernoulli(probs=train_vars[c]))\n",
    "        class_mask = (labels == c)\n",
    "        class_data.append(data[class_mask])\n",
    "\n",
    "    for c in range(num_classes):\n",
    "        optimizer = tf.keras.optimizers.Adam()  # reset optimizer\n",
    "        print('-'*100)\n",
    "        print('Class:', c)\n",
    "        print('-'*100)\n",
    "        # optimize probs for p(x | y=c)\n",
    "        for i in range(num_steps):\n",
    "            loss, grads = get_loss_and_grads(distributions[c], class_data[c])\n",
    "            optimizer.apply_gradients(zip(grads, distributions[c].trainable_variables))\n",
    "            if (i + 1) % 10 == 0:\n",
    "                print('iter: {:d}: loss = {:f}, probs ='.format(i+1, loss), distributions[c].trainable_variables)\n",
    "        # record p(x | y=c)\n",
    "        train_vars[c] = tf.squeeze(distributions[c].trainable_variables)\n",
    "\n",
    "    print('\\nBernoulli probs:')\n",
    "    print(train_vars)\n",
    "        \n",
    "    dist = tfd.Bernoulli(probs=train_vars)\n",
    "    dist = tfd.Independent(dist,reinterpreted_batch_ndims=1)\n",
    "\n",
    "    print('\\nOptimized independent Bernoulli distributions:')\n",
    "    print(dist)\n",
    "\n",
    "    return dist"
   ]
  },
  {
   "cell_type": "code",
   "execution_count": 108,
   "metadata": {},
   "outputs": [],
   "source": [
    "# Make the same Naive Bayes classifier we did last tutorial\n",
    "\n",
    "categories = ['alt.atheism', 'talk.religion.misc', 'comp.graphics', 'sci.space']\n",
    "\n",
    "(train_data, train_labels), (test_data, test_labels) = get_data(categories)\n",
    "\n",
    "smoothed_counts = laplace_smoothing(labels=train_labels, binary_data=train_data, n_classes=len(categories))\n",
    "\n",
    "priors = class_priors(n_classes=len(categories), labels=train_labels)\n",
    "tfp_dist = make_distribution(smoothed_counts)"
   ]
  },
  {
   "cell_type": "code",
   "execution_count": 109,
   "metadata": {},
   "outputs": [
    {
     "name": "stdout",
     "output_type": "stream",
     "text": [
      "----------------------------------------------------------------------------------------------------\n",
      "Class: 0\n",
      "----------------------------------------------------------------------------------------------------\n",
      "iter: 10: loss = 0.070337, probs = (<tf.Variable 'probs_class_0:0' shape=(17495,) dtype=float64, numpy=\n",
      "array([0.04662072, 0.02300195, 0.01633129, ..., 0.00240116, 0.04447366,\n",
      "       0.05884606])>,)\n",
      "iter: 20: loss = 0.061759, probs = (<tf.Variable 'probs_class_0:0' shape=(17495,) dtype=float64, numpy=\n",
      "array([3.68579292e-02, 2.30937098e-02, 6.48975844e-03, ...,\n",
      "       1.00000000e-09, 3.46288342e-02, 4.89995617e-02])>,)\n",
      "iter: 30: loss = 0.054348, probs = (<tf.Variable 'probs_class_0:0' shape=(17495,) dtype=float64, numpy=\n",
      "array([2.72427471e-02, 2.27070701e-02, 1.00000000e-09, ...,\n",
      "       1.00000000e-09, 2.47856764e-02, 3.91556566e-02])>,)\n",
      "iter: 40: loss = 0.048051, probs = (<tf.Variable 'probs_class_0:0' shape=(17495,) dtype=float64, numpy=\n",
      "array([1.79932306e-02, 2.30330557e-02, 1.00000000e-09, ...,\n",
      "       1.00000000e-09, 1.49667955e-02, 2.93368654e-02])>,)\n",
      "iter: 50: loss = 0.042823, probs = (<tf.Variable 'probs_class_0:0' shape=(17495,) dtype=float64, numpy=\n",
      "array([9.65792458e-03, 2.29287087e-02, 1.00000000e-09, ...,\n",
      "       1.00000000e-09, 5.18222317e-03, 1.95531918e-02])>,)\n",
      "iter: 60: loss = 0.038603, probs = (<tf.Variable 'probs_class_0:0' shape=(17495,) dtype=float64, numpy=\n",
      "array([4.34709284e-03, 2.28666104e-02, 1.00000000e-09, ...,\n",
      "       1.00000000e-09, 1.00000000e-09, 9.80922455e-03])>,)\n",
      "iter: 70: loss = 0.035349, probs = (<tf.Variable 'probs_class_0:0' shape=(17495,) dtype=float64, numpy=\n",
      "array([5.46863604e-03, 2.29191428e-02, 1.00000000e-09, ...,\n",
      "       1.00000000e-09, 1.00000000e-09, 1.06873450e-04])>,)\n",
      "iter: 80: loss = 0.033023, probs = (<tf.Variable 'probs_class_0:0' shape=(17495,) dtype=float64, numpy=\n",
      "array([7.15505133e-03, 2.29347889e-02, 1.00000000e-09, ...,\n",
      "       1.00000000e-09, 1.00000000e-09, 1.00000000e-09])>,)\n",
      "iter: 90: loss = 0.031591, probs = (<tf.Variable 'probs_class_0:0' shape=(17495,) dtype=float64, numpy=\n",
      "array([6.68801862e-03, 2.29208772e-02, 1.00000000e-09, ...,\n",
      "       1.00000000e-09, 1.00000000e-09, 1.00000000e-09])>,)\n",
      "iter: 100: loss = 0.030952, probs = (<tf.Variable 'probs_class_0:0' shape=(17495,) dtype=float64, numpy=\n",
      "array([5.96689315e-03, 2.29124213e-02, 1.00000000e-09, ...,\n",
      "       1.00000000e-09, 1.00000000e-09, 1.00000000e-09])>,)\n",
      "----------------------------------------------------------------------------------------------------\n",
      "Class: 1\n",
      "----------------------------------------------------------------------------------------------------\n",
      "iter: 10: loss = 0.062727, probs = (<tf.Variable 'probs_class_1:0' shape=(17495,) dtype=float64, numpy=\n",
      "array([0.02021771, 0.02489212, 0.01536896, ..., 0.08218643, 0.07784016,\n",
      "       0.03491328])>,)\n",
      "iter: 20: loss = 0.054101, probs = (<tf.Variable 'probs_class_1:0' shape=(17495,) dtype=float64, numpy=\n",
      "array([0.02736501, 0.01757842, 0.00552754, ..., 0.07233725, 0.06809557,\n",
      "       0.02514184])>,)\n",
      "iter: 30: loss = 0.046667, probs = (<tf.Variable 'probs_class_1:0' shape=(17495,) dtype=float64, numpy=\n",
      "array([3.19134834e-02, 1.66633143e-02, 1.00000000e-09, ...,\n",
      "       6.24921837e-02, 5.84860454e-02, 1.55345757e-02])>,)\n",
      "iter: 40: loss = 0.040359, probs = (<tf.Variable 'probs_class_1:0' shape=(17495,) dtype=float64, numpy=\n",
      "array([3.43007421e-02, 1.92334472e-02, 1.00000000e-09, ...,\n",
      "       5.26736307e-02, 4.91395724e-02, 6.49592147e-03])>,)\n",
      "iter: 50: loss = 0.035122, probs = (<tf.Variable 'probs_class_1:0' shape=(17495,) dtype=float64, numpy=\n",
      "array([3.52124937e-02, 1.96978514e-02, 1.00000000e-09, ...,\n",
      "       4.28915519e-02, 4.02167147e-02, 1.50764193e-03])>,)\n",
      "iter: 60: loss = 0.030938, probs = (<tf.Variable 'probs_class_1:0' shape=(17495,) dtype=float64, numpy=\n",
      "array([3.52820496e-02, 1.86836773e-02, 1.00000000e-09, ...,\n",
      "       3.31504853e-02, 3.19609905e-02, 4.52210309e-03])>,)\n",
      "iter: 70: loss = 0.027750, probs = (<tf.Variable 'probs_class_1:0' shape=(17495,) dtype=float64, numpy=\n",
      "array([3.49853532e-02, 1.85551459e-02, 1.00000000e-09, ...,\n",
      "       2.34522788e-02, 2.47747565e-02, 4.15301191e-03])>,)\n",
      "iter: 80: loss = 0.025494, probs = (<tf.Variable 'probs_class_1:0' shape=(17495,) dtype=float64, numpy=\n",
      "array([3.46260234e-02, 1.89579195e-02, 1.00000000e-09, ...,\n",
      "       1.37974447e-02, 1.92975506e-02, 2.93511591e-03])>,)\n",
      "iter: 90: loss = 0.024099, probs = (<tf.Variable 'probs_class_1:0' shape=(17495,) dtype=float64, numpy=\n",
      "array([3.43561534e-02, 1.88994349e-02, 1.00000000e-09, ...,\n",
      "       4.18583724e-03, 1.62575565e-02, 3.51233079e-03])>,)\n",
      "iter: 100: loss = 0.023495, probs = (<tf.Variable 'probs_class_1:0' shape=(17495,) dtype=float64, numpy=\n",
      "array([3.42149695e-02, 1.87697522e-02, 1.00000000e-09, ...,\n",
      "       1.00000000e-09, 1.56923302e-02, 3.57029167e-03])>,)\n",
      "----------------------------------------------------------------------------------------------------\n",
      "Class: 2\n",
      "----------------------------------------------------------------------------------------------------\n",
      "iter: 10: loss = 0.070274, probs = (<tf.Variable 'probs_class_2:0' shape=(17495,) dtype=float64, numpy=\n",
      "array([0.07336207, 0.0787283 , 0.06136212, ..., 0.01477257, 0.00638681,\n",
      "       0.07757646])>,)\n",
      "iter: 20: loss = 0.061961, probs = (<tf.Variable 'probs_class_2:0' shape=(17495,) dtype=float64, numpy=\n",
      "array([6.38681536e-02, 7.10953504e-02, 5.15406891e-02, ...,\n",
      "       4.93122111e-03, 1.00000000e-09, 6.77278062e-02])>,)\n",
      "iter: 30: loss = 0.054808, probs = (<tf.Variable 'probs_class_2:0' shape=(17495,) dtype=float64, numpy=\n",
      "array([5.48769744e-02, 6.70293163e-02, 4.17583219e-02, ...,\n",
      "       1.00000000e-09, 1.00000000e-09, 5.78829646e-02])>,)\n",
      "iter: 40: loss = 0.048763, probs = (<tf.Variable 'probs_class_2:0' shape=(17495,) dtype=float64, numpy=\n",
      "array([4.68519679e-02, 6.71279484e-02, 3.20721418e-02, ...,\n",
      "       1.00000000e-09, 1.00000000e-09, 4.80643552e-02])>,)\n",
      "iter: 50: loss = 0.043799, probs = (<tf.Variable 'probs_class_2:0' shape=(17495,) dtype=float64, numpy=\n",
      "array([4.03885655e-02, 6.88680089e-02, 2.25555879e-02, ...,\n",
      "       1.00000000e-09, 1.00000000e-09, 3.82819477e-02])>,)\n",
      "iter: 60: loss = 0.039836, probs = (<tf.Variable 'probs_class_2:0' shape=(17495,) dtype=float64, numpy=\n",
      "array([3.60996650e-02, 6.97664009e-02, 1.33635140e-02, ...,\n",
      "       1.00000000e-09, 1.00000000e-09, 2.85402901e-02])>,)\n",
      "iter: 70: loss = 0.036831, probs = (<tf.Variable 'probs_class_2:0' shape=(17495,) dtype=float64, numpy=\n",
      "array([3.41981483e-02, 6.94985578e-02, 5.03627227e-03, ...,\n",
      "       1.00000000e-09, 1.00000000e-09, 1.88412429e-02])>,)\n",
      "iter: 80: loss = 0.034731, probs = (<tf.Variable 'probs_class_2:0' shape=(17495,) dtype=float64, numpy=\n",
      "array([3.41085007e-02, 6.90352179e-02, 1.82553412e-03, ...,\n",
      "       1.00000000e-09, 1.00000000e-09, 9.18533125e-03])>,)\n",
      "iter: 90: loss = 0.033446, probs = (<tf.Variable 'probs_class_2:0' shape=(17495,) dtype=float64, numpy=\n",
      "array([3.47769516e-02, 6.89804498e-02, 4.46756300e-03, ...,\n",
      "       1.00000000e-09, 1.00000000e-09, 1.00000000e-09])>,)\n",
      "iter: 100: loss = 0.032912, probs = (<tf.Variable 'probs_class_2:0' shape=(17495,) dtype=float64, numpy=\n",
      "array([3.53775229e-02, 6.91415841e-02, 3.92649331e-03, ...,\n",
      "       1.00000000e-09, 1.00000000e-09, 1.00000000e-09])>,)\n",
      "----------------------------------------------------------------------------------------------------\n",
      "Class: 3\n",
      "----------------------------------------------------------------------------------------------------\n",
      "iter: 10: loss = 0.071194, probs = (<tf.Variable 'probs_class_3:0' shape=(17495,) dtype=float64, numpy=\n",
      "array([0.01836149, 0.07216495, 0.0775314 , ..., 0.02480171, 0.0836188 ,\n",
      "       0.05179501])>,)\n",
      "iter: 20: loss = 0.062720, probs = (<tf.Variable 'probs_class_3:0' shape=(17495,) dtype=float64, numpy=\n",
      "array([0.01015315, 0.06245136, 0.06768275, ..., 0.01520151, 0.07376945,\n",
      "       0.04194933])>,)\n",
      "iter: 30: loss = 0.055445, probs = (<tf.Variable 'probs_class_3:0' shape=(17495,) dtype=float64, numpy=\n",
      "array([0.00845979, 0.05292078, 0.05783792, ..., 0.00648621, 0.06392432,\n",
      "       0.03210579])>,)\n",
      "iter: 40: loss = 0.049303, probs = (<tf.Variable 'probs_class_3:0' shape=(17495,) dtype=float64, numpy=\n",
      "array([0.01125824, 0.04374981, 0.04801931, ..., 0.003247  , 0.05410578,\n",
      "       0.02228695])>,)\n",
      "iter: 50: loss = 0.044229, probs = (<tf.Variable 'probs_class_3:0' shape=(17495,) dtype=float64, numpy=\n",
      "array([0.01144365, 0.03518119, 0.03823689, ..., 0.00616833, 0.04432381,\n",
      "       0.01250283])>,)\n"
     ]
    },
    {
     "name": "stdout",
     "output_type": "stream",
     "text": [
      "iter: 60: loss = 0.040181, probs = (<tf.Variable 'probs_class_3:0' shape=(17495,) dtype=float64, numpy=\n",
      "array([0.01029247, 0.02760121, 0.02849523, ..., 0.00613089, 0.03458293,\n",
      "       0.00275803])>,)\n",
      "iter: 70: loss = 0.037097, probs = (<tf.Variable 'probs_class_3:0' shape=(17495,) dtype=float64, numpy=\n",
      "array([1.04211524e-02, 2.16283342e-02, 1.87961759e-02, ...,\n",
      "       4.91266678e-03, 2.48849827e-02, 1.00000000e-09])>,)\n",
      "iter: 80: loss = 0.034908, probs = (<tf.Variable 'probs_class_3:0' shape=(17495,) dtype=float64, numpy=\n",
      "array([1.08000074e-02, 1.80317891e-02, 9.14025382e-03, ...,\n",
      "       5.20219355e-03, 1.52304861e-02, 1.00000000e-09])>,)\n",
      "iter: 90: loss = 0.033563, probs = (<tf.Variable 'probs_class_3:0' shape=(17495,) dtype=float64, numpy=\n",
      "array([1.05958418e-02, 1.70489149e-02, 1.00000000e-09, ...,\n",
      "       5.50651725e-03, 5.61928608e-03, 1.00000000e-09])>,)\n",
      "iter: 100: loss = 0.032963, probs = (<tf.Variable 'probs_class_3:0' shape=(17495,) dtype=float64, numpy=\n",
      "array([1.05522867e-02, 1.76731060e-02, 1.00000000e-09, ...,\n",
      "       5.24531664e-03, 1.00000000e-09, 1.00000000e-09])>,)\n",
      "\n",
      "Bernoulli probs:\n",
      "[<tf.Tensor: shape=(17495,), dtype=float64, numpy=\n",
      "array([5.96689315e-03, 2.29124213e-02, 1.00000000e-09, ...,\n",
      "       1.00000000e-09, 1.00000000e-09, 1.00000000e-09])>, <tf.Tensor: shape=(17495,), dtype=float64, numpy=\n",
      "array([3.42149695e-02, 1.87697522e-02, 1.00000000e-09, ...,\n",
      "       1.00000000e-09, 1.56923302e-02, 3.57029167e-03])>, <tf.Tensor: shape=(17495,), dtype=float64, numpy=\n",
      "array([3.53775229e-02, 6.91415841e-02, 3.92649331e-03, ...,\n",
      "       1.00000000e-09, 1.00000000e-09, 1.00000000e-09])>, <tf.Tensor: shape=(17495,), dtype=float64, numpy=\n",
      "array([1.05522867e-02, 1.76731060e-02, 1.00000000e-09, ...,\n",
      "       5.24531664e-03, 1.00000000e-09, 1.00000000e-09])>]\n",
      "\n",
      "Optimized independent Bernoulli distributions:\n",
      "tfp.distributions.Independent(\"IndependentBernoulli\", batch_shape=[4], event_shape=[17495], dtype=int32)\n"
     ]
    }
   ],
   "source": [
    "# Now train the distributions with gradient tape\n",
    "\n",
    "learned_dist = make_learnable_distributions(data=train_data, labels=train_labels, num_classes=4)"
   ]
  },
  {
   "cell_type": "code",
   "execution_count": 110,
   "metadata": {},
   "outputs": [
    {
     "name": "stdout",
     "output_type": "stream",
     "text": [
      "F1 score from learned distribution: 0.8748667324627903\n",
      "F1 score from defined distribution: 0.8799168247497399\n"
     ]
    }
   ],
   "source": [
    "# Compare the two results\n",
    "\n",
    "for name, dist in zip(['learned distribution', 'defined distribution'], [learned_dist,tfp_dist]):\n",
    "    probabilities = []\n",
    "    for sample, label in zip(test_data, test_labels):\n",
    "        probabilities.append(predict_sample(dist, sample, priors))\n",
    "\n",
    "    probabilities = np.asarray(probabilities)\n",
    "    predicted_classes = np.argmax(probabilities, axis =-1)\n",
    "    print('F1 score from {:s}:'.format(name), f1_score(test_labels, predicted_classes, average='macro'))"
   ]
  }
 ],
 "metadata": {
  "kernelspec": {
   "display_name": "Python 3",
   "language": "python",
   "name": "python3"
  },
  "language_info": {
   "codemirror_mode": {
    "name": "ipython",
    "version": 3
   },
   "file_extension": ".py",
   "mimetype": "text/x-python",
   "name": "python",
   "nbconvert_exporter": "python",
   "pygments_lexer": "ipython3",
   "version": "3.6.12"
  }
 },
 "nbformat": 4,
 "nbformat_minor": 4
}
