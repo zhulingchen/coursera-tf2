{
 "cells": [
  {
   "cell_type": "markdown",
   "metadata": {},
   "source": [
    "# Capstone Project\n",
    "## Probabilistic generative models\n",
    "### Instructions\n",
    "\n",
    "In this notebook, you will practice working with generative models, using both normalising flow networks and the variational autoencoder algorithm. You will create a synthetic dataset with a normalising flow with randomised parameters. This dataset will then be used to train a variational autoencoder, and you will used the trained model to interpolate between the generated images. You will use concepts from throughout this course, including Distribution objects, probabilistic layers, bijectors, ELBO optimisation and KL divergence regularisers.\n",
    "\n",
    "This project is peer-assessed. Within this notebook you will find instructions in each section for how to complete the project. Pay close attention to the instructions as the peer review will be carried out according to a grading rubric that checks key parts of the project instructions. Feel free to add extra cells into the notebook as required.\n",
    "\n",
    "### How to submit\n",
    "\n",
    "When you have completed the Capstone project notebook, you will submit a pdf of the notebook for peer review. First ensure that the notebook has been fully executed from beginning to end, and all of the cell outputs are visible. This is important, as the grading rubric depends on the reviewer being able to view the outputs of your notebook. Save the notebook as a pdf (File -> Download as -> PDF via LaTeX). You should then submit this pdf for review.\n",
    "\n",
    "### Let's get started!\n",
    "\n",
    "We'll start by running some imports below. For this project you are free to make further imports throughout the notebook as you wish. "
   ]
  },
  {
   "cell_type": "code",
   "execution_count": 1,
   "metadata": {},
   "outputs": [],
   "source": [
    "import tensorflow as tf\n",
    "from tensorflow.keras import Sequential, Model\n",
    "from tensorflow.keras.layers import (Dense, Flatten, Reshape, Conv2D, Conv2DTranspose,\n",
    "                                     BatchNormalization, ReLU, LeakyReLU)\n",
    "\n",
    "import tensorflow_probability as tfp\n",
    "tfd = tfp.distributions\n",
    "tfb = tfp.bijectors\n",
    "tfpl = tfp.layers\n",
    "\n",
    "import math\n",
    "import numpy as np\n",
    "import matplotlib.pyplot as plt\n",
    "%matplotlib inline\n",
    "\n",
    "from sklearn.model_selection import train_test_split"
   ]
  },
  {
   "cell_type": "code",
   "execution_count": 2,
   "metadata": {},
   "outputs": [
    {
     "name": "stdout",
     "output_type": "stream",
     "text": [
      "TensorFlow version: 2.3.0\n",
      "TensorFlow Probability version: 0.11.1\n"
     ]
    }
   ],
   "source": [
    "print('TensorFlow version:', tf.__version__)\n",
    "print('TensorFlow Probability version:', tfp.__version__)"
   ]
  },
  {
   "cell_type": "markdown",
   "metadata": {},
   "source": [
    "![Flags overview image](data/example_images.png)\n",
    "\n",
    "For the capstone project, you will create your own image dataset from contour plots of a transformed distribution using a random normalising flow network. You will then use the variational autoencoder algorithm to train generative and inference networks, and synthesise new images by interpolating in the latent space."
   ]
  },
  {
   "cell_type": "markdown",
   "metadata": {},
   "source": [
    "#### The normalising flow\n",
    "* To construct the image dataset, you will build a normalising flow to transform the 2-D Gaussian random variable $z=(z_1, z_2)$, which has mean $\\mathbf{0}$ and covariance matrix $\\Sigma=\\sigma^2\\mathbf{I}_2$, with $\\sigma=0.3$. \n",
    "* This normalising flow uses bijectors that are parameterised by the following random variables:\n",
    "  * $\\theta \\sim U[0, 2\\pi)$\n",
    "  * $a \\sim N(3, 1)$\n",
    "  \n",
    "The complete normalising flow is given by the following chain of transformations:\n",
    "* $f_1(z) = (z_1, z_2 - 2)$,\n",
    "* $f_2(z) = (z_1, \\frac{z_2}{2})$,\n",
    "* $f_3(z) = (z_1, z_2 + az_1^2)$,\n",
    "* $f_4(z) = Rz$, where $R$ is a rotation matrix with angle $\\theta$,\n",
    "* $f_5(z) = \\tanh(z)$, where the $\\tanh$ function is applied elementwise.\n",
    "\n",
    "The transformed random variable $x$ is given by $x = f_5(f_4(f_3(f_2(f_1(z)))))$. \n",
    "* You should use or construct bijectors for each of the transformations $f_i$, $i=1,\\ldots, 5$, and use `tfb.Chain` and `tfb.TransformedDistribution` to construct the final transformed distribution. \n",
    "* Ensure to implement the `log_det_jacobian` methods for any subclassed bijectors that you write.\n",
    "* Display a scatter plot of samples from the base distribution.\n",
    "* Display 4 scatter plot images of the transformed distribution from your random normalising flow, using samples of $\\theta$ and $a$. Fix the axes of these 4 plots to the range $[-1, 1]$."
   ]
  },
  {
   "cell_type": "code",
   "execution_count": 3,
   "metadata": {},
   "outputs": [],
   "source": [
    "def plot_scatter(samples, ax, title, color='blue', xlim=[-1, 1], ylim=[-1, 1]):\n",
    "    assert samples.shape[-1] == 2, 'The last dimension of samples must be 2.'\n",
    "    ax.scatter(samples[:, 0], samples[:, 1], c=color)\n",
    "    ax.set_title(title)\n",
    "    ax.set_xlim(xlim)\n",
    "    ax.set_ylim(ylim)\n",
    "    ax.set_aspect('equal', 'box')"
   ]
  },
  {
   "cell_type": "code",
   "execution_count": 4,
   "metadata": {},
   "outputs": [
    {
     "data": {
      "text/plain": [
       "<tfp.distributions.MultivariateNormalDiag 'MultivariateNormalDiag' batch_shape=[] event_shape=[2] dtype=float32>"
      ]
     },
     "execution_count": 4,
     "metadata": {},
     "output_type": "execute_result"
    }
   ],
   "source": [
    "# define p(z)\n",
    "\n",
    "dim_z = 2\n",
    "loc = [0] * dim_z\n",
    "scale_diag = [0.3] * dim_z\n",
    "base_dist = tfd.MultivariateNormalDiag(loc=loc, scale_diag=scale_diag)\n",
    "base_dist"
   ]
  },
  {
   "cell_type": "code",
   "execution_count": 5,
   "metadata": {},
   "outputs": [
    {
     "data": {
      "image/png": "[encoded data removed]",
      "text/plain": [
       "<Figure size 432x288 with 1 Axes>"
      ]
     },
     "metadata": {
      "needs_background": "light"
     },
     "output_type": "display_data"
    }
   ],
   "source": [
    "n_samples = 1000\n",
    "fig = plt.figure()\n",
    "ax = fig.add_subplot()\n",
    "plot_scatter(\n",
    "    base_dist.sample(n_samples), ax,\n",
    "    title='Base distribution'\n",
    ")"
   ]
  },
  {
   "cell_type": "code",
   "execution_count": 6,
   "metadata": {},
   "outputs": [],
   "source": [
    "theta_dist = tfd.Uniform(0, math.pi)\n",
    "a_dist = tfd.Normal(3, 1)"
   ]
  },
  {
   "cell_type": "code",
   "execution_count": 7,
   "metadata": {},
   "outputs": [],
   "source": [
    "class SquareMultiplyAdd(tfb.Bijector):\n",
    "    def __init__(self, a, validate_args=False, name='SquareMultiplyAdd'):\n",
    "        self.a = tf.cast(a, tf.float32)\n",
    "        super(SquareMultiplyAdd, self).__init__(\n",
    "            validate_args=validate_args,\n",
    "            forward_min_event_ndims=1,\n",
    "            name=name\n",
    "        )\n",
    "        \n",
    "    def _forward(self, x):\n",
    "        assert x.shape[-1] == 2, 'Event shape must be 2.'\n",
    "        x = tf.cast(x, tf.float32)\n",
    "        y = tf.concat([x[..., :1], (self.a * tf.square(x[..., :1])) + x[..., 1:]], axis=-1)\n",
    "        return y\n",
    "    \n",
    "    def _inverse(self, y):\n",
    "        assert y.shape[-1] == 2, 'Event shape must be 2.'\n",
    "        y = tf.cast(y, tf.float32)\n",
    "        x = tf.concat([y[..., :1], y[..., 1:] - (self.a * tf.square(y[..., :1]))], axis=-1)\n",
    "        return x\n",
    "        \n",
    "    def _forward_log_det_jacobian(self, x):\n",
    "        # Jacobian matrix is:\n",
    "        # J = [[df31 / dx1, df31 / dx2], [df32 / dx1, df32 / dx2]] = [[1, 0], [2a*x1, 1]]\n",
    "        # log|J| = log1 = 0\n",
    "        return tf.constant(0, dtype=x.dtype)"
   ]
  },
  {
   "cell_type": "code",
   "execution_count": 8,
   "metadata": {},
   "outputs": [],
   "source": [
    "class Rotation(tfb.Bijector):\n",
    "    def __init__(self, theta, validate_args=False, name='Rotation'):\n",
    "        self.rotation_mat = tf.convert_to_tensor(\n",
    "            [[tf.cos(theta), -tf.sin(theta)],\n",
    "             [tf.sin(theta), tf.cos(theta)]],\n",
    "            dtype=tf.float32)  # counter-clockwise rotation matrix\n",
    "        super(Rotation, self).__init__(\n",
    "            validate_args=validate_args,\n",
    "            forward_min_event_ndims=1,\n",
    "            name=name\n",
    "        )\n",
    "        \n",
    "    def _forward(self, x):\n",
    "        assert x.shape[-1] == 2, 'Event shape must be 2.'\n",
    "        return tf.linalg.matvec(self.rotation_mat, x)\n",
    "    \n",
    "    def _inverse(self, y):\n",
    "        assert y.shape[-1] == 2, 'Event shape must be 2.'\n",
    "        return tf.linalg.matvec(tf.transpose(self.rotation_mat), y)\n",
    "    \n",
    "    def _forward_log_det_jacobian(self, x):\n",
    "        # Jacobian matrix is:\n",
    "        # J = [[df41 / dx1, df41 / dx2], [df42 / dx1, df42 / dx2]]\n",
    "        #   = [[tf.cos(theta), -tf.sin(theta)], [tf.sin(theta), tf.cos(theta)]]\n",
    "        # log|J| = log|cos(theta)**2 + sin(theta)**2| = log1 = 0\n",
    "        return tf.constant(0, dtype=x.dtype)"
   ]
  },
  {
   "cell_type": "code",
   "execution_count": 9,
   "metadata": {},
   "outputs": [],
   "source": [
    "def get_transformed_dist(base_dist, a, theta):\n",
    "    f1 = tfb.Shift([0, -2])\n",
    "    f2 = tfb.Scale([1, 0.5])\n",
    "    f3 = SquareMultiplyAdd(a)\n",
    "    f4 = Rotation(theta)\n",
    "    f5 = tfb.Tanh()\n",
    "    norm_flow = tfb.Chain([f5, f4, f3, f2, f1])\n",
    "    transformed_dist = tfd.TransformedDistribution(base_dist, norm_flow)\n",
    "    \n",
    "    return norm_flow, transformed_dist"
   ]
  },
  {
   "cell_type": "code",
   "execution_count": 10,
   "metadata": {},
   "outputs": [
    {
     "name": "stdout",
     "output_type": "stream",
     "text": [
      "tfp.distributions.TransformedDistribution(\"chain_of_tanh_of_Rotation_of_SquareMultiplyAdd_of_scale_of_shiftMultivariateNormalDiag\", batch_shape=[], event_shape=[2], dtype=float32)\n",
      "shape of the output of norm_flow when its input has batch dimensions: (100, 50, 2)\n",
      "shape of transformed_dist samples: (1000, 2)\n"
     ]
    }
   ],
   "source": [
    "norm_flow, transformed_dist = get_transformed_dist(base_dist, a_dist.sample(), theta_dist.sample())\n",
    "\n",
    "print(transformed_dist)\n",
    "\n",
    "print(\n",
    "    'shape of the output of norm_flow when its input has batch dimensions:',\n",
    "    norm_flow(tf.random.normal((100, 50, 2))).shape\n",
    ")\n",
    "\n",
    "print('shape of transformed_dist samples:', transformed_dist.sample(n_samples).shape)"
   ]
  },
  {
   "cell_type": "code",
   "execution_count": 11,
   "metadata": {},
   "outputs": [
    {
     "data": {
      "image/png": "[encoded data removed]",
      "text/plain": [
       "<Figure size 576x576 with 4 Axes>"
      ]
     },
     "metadata": {
      "needs_background": "light"
     },
     "output_type": "display_data"
    }
   ],
   "source": [
    "# Display 4 scatter plot images of the transformed distribution from your random normalising flow\n",
    "# using samples of 𝜃 and 𝑎\n",
    "# Fix the axes of these 4 plots to the range [−1,1].\n",
    "\n",
    "n_transformed_dists = 4\n",
    "fig, ax = plt.subplots(2, 2, figsize=(8, 8))\n",
    "colors = ['blue', 'red', 'green', 'orange']\n",
    "\n",
    "for i, (a, theta, color) in enumerate(\n",
    "    zip(\n",
    "        a_dist.sample(n_transformed_dists),\n",
    "        theta_dist.sample(n_transformed_dists),\n",
    "        colors\n",
    "    )\n",
    "):\n",
    "    _, transformed_dist = get_transformed_dist(base_dist, a, theta)\n",
    "    plot_scatter(\n",
    "        transformed_dist.sample(n_samples),\n",
    "        ax[i//2, i%2],\n",
    "        title='Transformed distribution {:d}\\n(a = {:.4f}, theta = {:.4f})'.format(i+1, a, theta),\n",
    "        color=color\n",
    "    )\n",
    "    \n",
    "fig.tight_layout()"
   ]
  },
  {
   "cell_type": "markdown",
   "metadata": {},
   "source": [
    "## 2. Create the image dataset\n",
    "* You should now use your random normalising flow to generate an image dataset of contour plots from your random normalising flow network. \n",
    "  * Feel free to get creative and experiment with different architectures to produce different sets of images!\n",
    "* First, display a sample of 4 contour plot images from your normalising flow network using 4 independently sampled sets of parameters. \n",
    "  * You may find the following `get_densities` function useful: this calculates density values for a (batched) Distribution for use in a contour plot. \n",
    "* Your dataset should consist of at least 1000 images, stored in a numpy array of shape `(N, 36, 36, 3)`.  Each image in the dataset should correspond to a contour plot of a transformed distribution from a normalising flow with an independently sampled set of parameters $s, T, S, b$. It will take a few minutes to create the dataset.\n",
    "* As well as the `get_densities` function, the `get_image_array_from_density_values` function will help you to generate the dataset. \n",
    "  * This function creates a numpy array for an image of the contour plot for a given set of density values Z. Feel free to choose your own options for the contour plots.\n",
    "* Display a sample of 20 images from your generated dataset in a figure."
   ]
  },
  {
   "cell_type": "code",
   "execution_count": 12,
   "metadata": {},
   "outputs": [],
   "source": [
    "# Helper function to compute transformed distribution densities\n",
    "\n",
    "X, Y = np.meshgrid(np.linspace(-1, 1, 100), np.linspace(-1, 1, 100))\n",
    "inputs = np.transpose(np.stack((X, Y)), [1, 2, 0])\n",
    "\n",
    "def get_densities(transformed_distribution):\n",
    "    \"\"\"\n",
    "    This function takes a (batched) Distribution object as an argument, and returns a numpy \n",
    "    array Z of shape (batch_shape, 100, 100) of density values, that can be used to make a \n",
    "    contour plot with:\n",
    "    plt.contourf(X, Y, Z[b, ...], cmap='hot', levels=100)\n",
    "    where b is an index into the batch shape.\n",
    "    \"\"\"\n",
    "    batch_shape = transformed_distribution.batch_shape\n",
    "    Z = transformed_distribution.prob(np.expand_dims(inputs, 2))\n",
    "    # transpose with axis order [2, ..., N-1, 0, 1] if Z is a N-rank array\n",
    "    Z = np.transpose(Z, list(range(2, 2+len(batch_shape))) + [0, 1])\n",
    "    return Z"
   ]
  },
  {
   "cell_type": "code",
   "execution_count": 13,
   "metadata": {},
   "outputs": [],
   "source": [
    "# Helper function to convert contour plots to numpy arrays\n",
    "\n",
    "import numpy as np\n",
    "from matplotlib.backends.backend_agg import FigureCanvasAgg as FigureCanvas\n",
    "from matplotlib.figure import Figure\n",
    "\n",
    "def get_image_array_from_density_values(Z):\n",
    "    \"\"\"\n",
    "    This function takes a numpy array Z of density values of shape (100, 100)\n",
    "    and returns an integer numpy array of shape (36, 36, 3) of pixel values for an image.\n",
    "    \"\"\"\n",
    "    assert Z.shape == (100, 100)\n",
    "    fig = Figure(figsize=(0.5, 0.5))\n",
    "    canvas = FigureCanvas(fig)\n",
    "    ax = fig.gca()\n",
    "    ax.contourf(X, Y, Z, cmap='hot', levels=100)\n",
    "    ax.axis('off')\n",
    "    fig.tight_layout(pad=0)\n",
    "\n",
    "    ax.margins(0)\n",
    "    fig.canvas.draw()\n",
    "    image_from_plot = np.frombuffer(fig.canvas.tostring_rgb(), dtype=np.uint8)\n",
    "    image_from_plot = image_from_plot.reshape(fig.canvas.get_width_height()[::-1] + (3,))\n",
    "    return image_from_plot"
   ]
  },
  {
   "cell_type": "code",
   "execution_count": 14,
   "metadata": {},
   "outputs": [
    {
     "name": "stdout",
     "output_type": "stream",
     "text": [
      "shape of X: (100, 100)\n",
      "shape of Y: (100, 100)\n",
      "shape of inputs: (100, 100, 2)\n"
     ]
    }
   ],
   "source": [
    "print('shape of X:', X.shape)\n",
    "print('shape of Y:', Y.shape)\n",
    "print('shape of inputs:', inputs.shape)"
   ]
  },
  {
   "cell_type": "code",
   "execution_count": 15,
   "metadata": {},
   "outputs": [
    {
     "data": {
      "text/plain": [
       "<tfp.distributions.BatchReshape 'BatchReshapechain_of_tanh_of_Rotation_of_SquareMultiplyAdd_of_scale_of_shiftMultivariateNormalDiag' batch_shape=[1] event_shape=[2] dtype=float32>"
      ]
     },
     "execution_count": 15,
     "metadata": {},
     "output_type": "execute_result"
    }
   ],
   "source": [
    "# test to add a singleton batch dimension\n",
    "\n",
    "_, transformed_dist = get_transformed_dist(base_dist, a, theta)\n",
    "transformed_dist = tfd.BatchReshape(transformed_dist, [1])\n",
    "transformed_dist"
   ]
  },
  {
   "cell_type": "code",
   "execution_count": 16,
   "metadata": {},
   "outputs": [
    {
     "name": "stdout",
     "output_type": "stream",
     "text": [
      "shape of Z: (1, 100, 100)\n",
      "shape of image: (36, 36, 3)\n",
      "min value of image: 0\n",
      "max value of image: 255\n"
     ]
    }
   ],
   "source": [
    "# test to compute transformed distribution densities and convert contour plots to numpy arrays\n",
    "\n",
    "Z = transformed_dist.prob(np.expand_dims(inputs, 2))\n",
    "Z = np.transpose(Z, list(range(2, 2+len(transformed_dist.batch_shape))) + [0, 1])\n",
    "print('shape of Z:', Z.shape)\n",
    "image = get_image_array_from_density_values(Z.squeeze())\n",
    "print('shape of image:', image.shape)\n",
    "print('min value of image:', image.min())\n",
    "print('max value of image:', image.max())"
   ]
  },
  {
   "cell_type": "code",
   "execution_count": 17,
   "metadata": {},
   "outputs": [
    {
     "data": {
      "image/png": "[encoded data removed]",
      "text/plain": [
       "<Figure size 1152x864 with 20 Axes>"
      ]
     },
     "metadata": {
      "needs_background": "light"
     },
     "output_type": "display_data"
    }
   ],
   "source": [
    "# create a few contour plots\n",
    "\n",
    "n_ax_rows, n_ax_cols = 5, 4\n",
    "n_transformed_dists = 20\n",
    "\n",
    "fig, ax = plt.subplots(n_ax_rows, n_ax_cols, figsize=(16, 12))\n",
    "for i, (a, theta) in enumerate(zip(a_dist.sample(n_transformed_dists), theta_dist.sample(n_transformed_dists))):\n",
    "    _, transformed_dist = get_transformed_dist(base_dist, a, theta)\n",
    "    transformed_dist = tfd.BatchReshape(transformed_dist, [1])\n",
    "    Z = get_densities(transformed_dist).squeeze()\n",
    "    image = get_image_array_from_density_values(Z)\n",
    "    ax[i // n_ax_cols, i % n_ax_cols].imshow(image)\n",
    "    ax[i // n_ax_cols, i % n_ax_cols].set_title(\n",
    "        'Transformed distribution {:d}\\n(a = {:.4f}, theta = {:.4f})'.format(i+1, a, theta)\n",
    "    )\n",
    "    ax[i // n_ax_cols, i % n_ax_cols].set_aspect('equal', 'box')\n",
    "\n",
    "fig.tight_layout()"
   ]
  },
  {
   "cell_type": "code",
   "execution_count": 18,
   "metadata": {},
   "outputs": [
    {
     "name": "stdout",
     "output_type": "stream",
     "text": [
      "shape of images_dataset: (5000, 36, 36, 3)\n"
     ]
    }
   ],
   "source": [
    "# create image datasets\n",
    "\n",
    "images = []\n",
    "n_transformed_dists = 5000\n",
    "\n",
    "for i, (a, theta) in enumerate(zip(a_dist.sample(n_transformed_dists), theta_dist.sample(n_transformed_dists))):\n",
    "    _, transformed_dist = get_transformed_dist(base_dist, a, theta)\n",
    "    transformed_dist = tfd.BatchReshape(transformed_dist, [1])\n",
    "    Z = get_densities(transformed_dist).squeeze()\n",
    "    image = get_image_array_from_density_values(Z)\n",
    "    images.append(image)\n",
    "\n",
    "images_dataset = np.stack(images)\n",
    "print('shape of images_dataset:', images_dataset.shape)"
   ]
  },
  {
   "cell_type": "markdown",
   "metadata": {},
   "source": [
    "## 3. Make `tf.data.Dataset` objects\n",
    "* You should now split your dataset to create `tf.data.Dataset` objects for training and validation data. \n",
    "* Using the `map` method, normalise the pixel values so that they lie between 0 and 1.\n",
    "* These Datasets will be used to train a variational autoencoder (VAE). Use the `map` method to return a tuple of input and output Tensors where the image is duplicated as both input and output.\n",
    "* Randomly shuffle the training Dataset.\n",
    "* Batch both datasets with a batch size of 20, setting `drop_remainder=True`.\n",
    "* Print the `element_spec` property for one of the Dataset objects."
   ]
  },
  {
   "cell_type": "code",
   "execution_count": 19,
   "metadata": {},
   "outputs": [
    {
     "name": "stdout",
     "output_type": "stream",
     "text": [
      "shape of images_train: (4000, 36, 36, 3)\n",
      "shape of images_valid: (1000, 36, 36, 3)\n"
     ]
    }
   ],
   "source": [
    "images_train, images_valid = train_test_split(images_dataset, test_size=0.2)\n",
    "print('shape of images_train:', images_train.shape)\n",
    "print('shape of images_valid:', images_valid.shape)"
   ]
  },
  {
   "cell_type": "code",
   "execution_count": 20,
   "metadata": {},
   "outputs": [],
   "source": [
    "def generate_tf_dataset(images_array, batch_size=20, buffer_size=100000):\n",
    "    images_array = np.array(images_array, dtype=np.float32)\n",
    "    images_ds = tf.data.Dataset.from_tensor_slices(images_array)\n",
    "    images_ds = images_ds.map(lambda x: (x / 255.0, x / 255.0))  # map from [0, 255] to [0, 1]\n",
    "    images_ds = images_ds.shuffle(buffer_size, reshuffle_each_iteration=True)\n",
    "    images_ds = images_ds.batch(batch_size, drop_remainder=True)\n",
    "    return images_ds"
   ]
  },
  {
   "cell_type": "code",
   "execution_count": 21,
   "metadata": {},
   "outputs": [],
   "source": [
    "images_train_ds = generate_tf_dataset(images_train)\n",
    "images_valid_ds = generate_tf_dataset(images_valid)"
   ]
  },
  {
   "cell_type": "code",
   "execution_count": 22,
   "metadata": {},
   "outputs": [
    {
     "name": "stdout",
     "output_type": "stream",
     "text": [
      "event shape is: (36, 36, 3)\n"
     ]
    }
   ],
   "source": [
    "event_shape = images_train_ds.element_spec[0].shape[1:]\n",
    "print('event shape is:', event_shape)"
   ]
  },
  {
   "cell_type": "markdown",
   "metadata": {},
   "source": [
    "## 4. Build the encoder and decoder networks\n",
    "* You should now create the encoder and decoder for the variational autoencoder algorithm.\n",
    "* You should design these networks yourself, subject to the following constraints:\n",
    "   * The encoder and decoder networks should be built using the `Sequential` class.\n",
    "   * The encoder and decoder networks should use probabilistic layers where necessary to represent distributions.\n",
    "   * The prior distribution should be a zero-mean, isotropic Gaussian (identity covariance matrix).\n",
    "   * The encoder network should add the KL divergence loss to the model.\n",
    "* Print the model summary for the encoder and decoder networks."
   ]
  },
  {
   "cell_type": "code",
   "execution_count": 23,
   "metadata": {},
   "outputs": [],
   "source": [
    "dim_latent = 2\n",
    "prior = tfd.MultivariateNormalDiag(\n",
    "    loc=tf.zeros(dim_latent),\n",
    "    scale_diag=tf.ones(dim_latent)\n",
    ")"
   ]
  },
  {
   "cell_type": "code",
   "execution_count": 24,
   "metadata": {},
   "outputs": [
    {
     "name": "stdout",
     "output_type": "stream",
     "text": [
      "WARNING:tensorflow:From c:\\programdata\\anaconda3\\envs\\dev\\lib\\site-packages\\tensorflow\\python\\ops\\linalg\\linear_operator_lower_triangular.py:158: calling LinearOperator.__init__ (from tensorflow.python.ops.linalg.linear_operator) with graph_parents is deprecated and will be removed in a future version.\n",
      "Instructions for updating:\n",
      "Do not pass `graph_parents`.  They will  no longer be used.\n",
      "Model: \"sequential\"\n",
      "_________________________________________________________________\n",
      "Layer (type)                 Output Shape              Param #   \n",
      "=================================================================\n",
      "conv2d (Conv2D)              (None, 18, 18, 32)        896       \n",
      "_________________________________________________________________\n",
      "batch_normalization (BatchNo (None, 18, 18, 32)        128       \n",
      "_________________________________________________________________\n",
      "leaky_re_lu (LeakyReLU)      (None, 18, 18, 32)        0         \n",
      "_________________________________________________________________\n",
      "conv2d_1 (Conv2D)            (None, 9, 9, 64)          18496     \n",
      "_________________________________________________________________\n",
      "batch_normalization_1 (Batch (None, 9, 9, 64)          256       \n",
      "_________________________________________________________________\n",
      "leaky_re_lu_1 (LeakyReLU)    (None, 9, 9, 64)          0         \n",
      "_________________________________________________________________\n",
      "flatten (Flatten)            (None, 5184)              0         \n",
      "_________________________________________________________________\n",
      "dense (Dense)                (None, 512)               2654720   \n",
      "_________________________________________________________________\n",
      "leaky_re_lu_2 (LeakyReLU)    (None, 512)               0         \n",
      "_________________________________________________________________\n",
      "dense_1 (Dense)              (None, 5)                 2565      \n",
      "_________________________________________________________________\n",
      "multivariate_normal_tri_l (M ((None, 2), (None, 2))    0         \n",
      "=================================================================\n",
      "Total params: 2,677,061\n",
      "Trainable params: 2,676,869\n",
      "Non-trainable params: 192\n",
      "_________________________________________________________________\n"
     ]
    }
   ],
   "source": [
    "encoder = Sequential([\n",
    "    Conv2D(32, (3, 3), strides=2, padding='same', input_shape=event_shape),\n",
    "    BatchNormalization(),\n",
    "    LeakyReLU(),\n",
    "    Conv2D(64, (3, 3), strides=2, padding='same'),\n",
    "    BatchNormalization(),\n",
    "    LeakyReLU(),\n",
    "    Flatten(),\n",
    "    Dense(512),\n",
    "    LeakyReLU(),\n",
    "    Dense(tfpl.MultivariateNormalTriL.params_size(dim_latent)),  # no activation function\n",
    "    tfpl.MultivariateNormalTriL(\n",
    "        dim_latent,\n",
    "        activity_regularizer=tfpl.KLDivergenceRegularizer(prior)\n",
    "    )\n",
    "])\n",
    "\n",
    "encoder.summary()"
   ]
  },
  {
   "cell_type": "code",
   "execution_count": 25,
   "metadata": {},
   "outputs": [
    {
     "name": "stdout",
     "output_type": "stream",
     "text": [
      "Model: \"sequential_1\"\n",
      "_________________________________________________________________\n",
      "Layer (type)                 Output Shape              Param #   \n",
      "=================================================================\n",
      "dense_2 (Dense)              (None, 64)                192       \n",
      "_________________________________________________________________\n",
      "dense_3 (Dense)              (None, 5184)              336960    \n",
      "_________________________________________________________________\n",
      "reshape (Reshape)            (None, 9, 9, 64)          0         \n",
      "_________________________________________________________________\n",
      "conv2d_transpose (Conv2DTran (None, 18, 18, 32)        18464     \n",
      "_________________________________________________________________\n",
      "batch_normalization_2 (Batch (None, 18, 18, 32)        128       \n",
      "_________________________________________________________________\n",
      "re_lu (ReLU)                 (None, 18, 18, 32)        0         \n",
      "_________________________________________________________________\n",
      "conv2d_transpose_1 (Conv2DTr (None, 36, 36, 3)         867       \n",
      "_________________________________________________________________\n",
      "flatten_1 (Flatten)          (None, 3888)              0         \n",
      "_________________________________________________________________\n",
      "independent_bernoulli (Indep ((None, 36, 36, 3), (None 0         \n",
      "=================================================================\n",
      "Total params: 356,611\n",
      "Trainable params: 356,547\n",
      "Non-trainable params: 64\n",
      "_________________________________________________________________\n"
     ]
    }
   ],
   "source": [
    "decoder = Sequential([\n",
    "    Dense(64, activation='relu', input_shape=(dim_latent,)),\n",
    "    Dense(9 * 9 * 64, activation='relu'),\n",
    "    Reshape((9, 9, 64)),\n",
    "    Conv2DTranspose(32, (3, 3), strides=2, padding='same'),\n",
    "    BatchNormalization(),\n",
    "    ReLU(),\n",
    "    Conv2DTranspose(3, (3, 3), strides=2, padding='same'),  # no activation function\n",
    "    Flatten(),\n",
    "    tfpl.IndependentBernoulli(event_shape)\n",
    "])\n",
    "\n",
    "decoder.summary()"
   ]
  },
  {
   "cell_type": "markdown",
   "metadata": {},
   "source": [
    "## 5. Train the variational autoencoder\n",
    "* You should now train the variational autoencoder. Build the VAE using the `Model` class and the encoder and decoder models. Print the model summary.\n",
    "* Compile the VAE with the negative log likelihood loss and train with the `fit` method, using the training and validation Datasets.\n",
    "* Plot the learning curves for loss vs epoch for both training and validation sets."
   ]
  },
  {
   "cell_type": "code",
   "execution_count": 26,
   "metadata": {},
   "outputs": [],
   "source": [
    "vae = Model(encoder.input, decoder(encoder.output))"
   ]
  },
  {
   "cell_type": "code",
   "execution_count": 27,
   "metadata": {},
   "outputs": [],
   "source": [
    "optimizer = tf.keras.optimizers.Adam(learning_rate=1e-3)\n",
    "nll_loss = lambda x_true, x_pred: -tf.reduce_sum(x_pred.log_prob(x_true))\n",
    "vae.compile(optimizer=optimizer, loss=nll_loss)"
   ]
  },
  {
   "cell_type": "code",
   "execution_count": 28,
   "metadata": {
    "scrolled": true
   },
   "outputs": [
    {
     "name": "stdout",
     "output_type": "stream",
     "text": [
      "Epoch 1/30\n",
      "  1/200 [..............................] - ETA: 0s - loss: 53780.1328WARNING:tensorflow:Callbacks method `on_train_batch_end` is slow compared to the batch time (batch time: 0.0030s vs `on_train_batch_end` time: 0.0050s). Check your callbacks.\n",
      "200/200 [==============================] - 2s 10ms/step - loss: 19125.0898 - val_loss: 20234.2832\n",
      "Epoch 2/30\n",
      "200/200 [==============================] - 2s 8ms/step - loss: 9376.2227 - val_loss: 10644.0049\n",
      "Epoch 3/30\n",
      "200/200 [==============================] - 2s 8ms/step - loss: 8365.4854 - val_loss: 8525.6943\n",
      "Epoch 4/30\n",
      "200/200 [==============================] - 2s 8ms/step - loss: 7955.3325 - val_loss: 8040.8525\n",
      "Epoch 5/30\n",
      "200/200 [==============================] - 2s 8ms/step - loss: 7704.6357 - val_loss: 7817.0479\n",
      "Epoch 6/30\n",
      "200/200 [==============================] - 2s 8ms/step - loss: 7540.0122 - val_loss: 7752.4985\n",
      "Epoch 7/30\n",
      "200/200 [==============================] - 2s 8ms/step - loss: 7458.4917 - val_loss: 7561.7290\n",
      "Epoch 8/30\n",
      "200/200 [==============================] - 2s 8ms/step - loss: 7338.3574 - val_loss: 7401.9453\n",
      "Epoch 9/30\n",
      "200/200 [==============================] - 2s 8ms/step - loss: 7280.1709 - val_loss: 7327.9316\n",
      "Epoch 10/30\n",
      "200/200 [==============================] - 2s 8ms/step - loss: 7251.5322 - val_loss: 7328.9004\n",
      "Epoch 11/30\n",
      "200/200 [==============================] - 2s 8ms/step - loss: 7216.5889 - val_loss: 7309.5786\n",
      "Epoch 12/30\n",
      "200/200 [==============================] - 2s 8ms/step - loss: 7183.0063 - val_loss: 7252.5605\n",
      "Epoch 13/30\n",
      "200/200 [==============================] - 2s 8ms/step - loss: 7167.6377 - val_loss: 7302.1816\n",
      "Epoch 14/30\n",
      "200/200 [==============================] - 2s 8ms/step - loss: 7159.9707 - val_loss: 7173.9946\n",
      "Epoch 15/30\n",
      "200/200 [==============================] - 2s 8ms/step - loss: 7124.1362 - val_loss: 7166.2964\n",
      "Epoch 16/30\n",
      "200/200 [==============================] - 2s 9ms/step - loss: 7104.4165 - val_loss: 7239.9385\n",
      "Epoch 17/30\n",
      "200/200 [==============================] - 2s 8ms/step - loss: 7105.9912 - val_loss: 7238.6641\n",
      "Epoch 18/30\n",
      "200/200 [==============================] - 2s 8ms/step - loss: 7085.8203 - val_loss: 7194.4683\n",
      "Epoch 19/30\n",
      "200/200 [==============================] - 2s 8ms/step - loss: 7072.3887 - val_loss: 7165.4546\n",
      "Epoch 20/30\n",
      "200/200 [==============================] - 2s 9ms/step - loss: 7091.6211 - val_loss: 7135.5684\n",
      "Epoch 21/30\n",
      "200/200 [==============================] - 2s 9ms/step - loss: 7068.6436 - val_loss: 7116.1538\n",
      "Epoch 22/30\n",
      "200/200 [==============================] - 2s 9ms/step - loss: 7059.7700 - val_loss: 7075.9854\n",
      "Epoch 23/30\n",
      "200/200 [==============================] - 2s 8ms/step - loss: 7050.3887 - val_loss: 7072.7178\n",
      "Epoch 24/30\n",
      "200/200 [==============================] - 2s 9ms/step - loss: 7066.3892 - val_loss: 7310.3633\n",
      "Epoch 25/30\n",
      "200/200 [==============================] - 2s 9ms/step - loss: 7112.2485 - val_loss: 7067.6499\n",
      "Epoch 26/30\n",
      "200/200 [==============================] - 2s 8ms/step - loss: 7039.5059 - val_loss: 7080.6455\n",
      "Epoch 27/30\n",
      "200/200 [==============================] - 2s 8ms/step - loss: 7028.0474 - val_loss: 7075.0620\n",
      "Epoch 28/30\n",
      "200/200 [==============================] - 2s 8ms/step - loss: 7039.9531 - val_loss: 7093.7900\n",
      "Epoch 29/30\n",
      "200/200 [==============================] - 2s 8ms/step - loss: 7029.4517 - val_loss: 7040.7500\n",
      "Epoch 30/30\n",
      "200/200 [==============================] - 2s 8ms/step - loss: 7013.9043 - val_loss: 7051.8286\n"
     ]
    },
    {
     "data": {
      "text/plain": [
       "<tensorflow.python.keras.callbacks.History at 0x2641bb539b0>"
      ]
     },
     "execution_count": 28,
     "metadata": {},
     "output_type": "execute_result"
    }
   ],
   "source": [
    "vae.fit(images_train_ds, validation_data=images_valid_ds, epochs=30)"
   ]
  },
  {
   "cell_type": "markdown",
   "metadata": {},
   "source": [
    "## 6. Use the encoder and decoder networks\n",
    "* You can now put your encoder and decoder networks into practice!\n",
    "* Randomly sample 1000 images from the dataset, and pass them through the encoder. Display the embeddings in a scatter plot (project to 2 dimensions if the latent space has dimension higher than two).\n",
    "* Randomly sample 4 images from the dataset and for each image, display the original and reconstructed image from the VAE in a figure.\n",
    "  * Use the mean of the output distribution to display the images.\n",
    "* Randomly sample 6 latent variable realisations from the prior distribution, and display the images in a figure.\n",
    "  * Again use the mean of the output distribution to display the images."
   ]
  },
  {
   "cell_type": "code",
   "execution_count": null,
   "metadata": {},
   "outputs": [],
   "source": []
  },
  {
   "cell_type": "code",
   "execution_count": null,
   "metadata": {},
   "outputs": [],
   "source": []
  },
  {
   "cell_type": "code",
   "execution_count": null,
   "metadata": {},
   "outputs": [],
   "source": []
  },
  {
   "cell_type": "code",
   "execution_count": null,
   "metadata": {},
   "outputs": [],
   "source": []
  },
  {
   "cell_type": "code",
   "execution_count": null,
   "metadata": {},
   "outputs": [],
   "source": []
  },
  {
   "cell_type": "code",
   "execution_count": null,
   "metadata": {},
   "outputs": [],
   "source": []
  },
  {
   "cell_type": "markdown",
   "metadata": {},
   "source": [
    "## Make a video of latent space interpolation (not assessed)\n",
    "* Just for fun, you can run the code below to create a video of your decoder's generations, depending on the latent space."
   ]
  },
  {
   "cell_type": "code",
   "execution_count": null,
   "metadata": {},
   "outputs": [],
   "source": [
    "# Function to create animation\n",
    "\n",
    "import matplotlib.animation as anim\n",
    "from IPython.display import HTML\n",
    "\n",
    "\n",
    "def get_animation(latent_size, decoder, interpolation_length=500):\n",
    "    assert latent_size >= 2, \"Latent space must be at least 2-dimensional for plotting\"\n",
    "    fig = plt.figure(figsize=(9, 4))  \n",
    "    ax1 = fig.add_subplot(1,2,1)\n",
    "    ax1.set_xlim([-3, 3])\n",
    "    ax1.set_ylim([-3, 3])\n",
    "    ax1.set_title(\"Latent space\")\n",
    "    ax1.axes.get_xaxis().set_visible(False)\n",
    "    ax1.axes.get_yaxis().set_visible(False)\n",
    "    ax2 = fig.add_subplot(1,2,2)\n",
    "    ax2.set_title(\"Data space\")\n",
    "    ax2.axes.get_xaxis().set_visible(False)\n",
    "    ax2.axes.get_yaxis().set_visible(False)\n",
    "\n",
    "    # initializing a line variable \n",
    "    line, = ax1.plot([], [], marker='o')\n",
    "    img2 = ax2.imshow(np.zeros((36, 36, 3)))\n",
    "\n",
    "    freqs = np.random.uniform(low=0.1, high=0.2, size=(latent_size,))\n",
    "    phases = np.random.randn(latent_size)\n",
    "    input_points = np.arange(interpolation_length)\n",
    "    latent_coords = []\n",
    "    for i in range(latent_size):\n",
    "        latent_coords.append(2 * np.sin((freqs[i]*input_points + phases[i])).astype(np.float32))\n",
    "\n",
    "    def animate(i): \n",
    "        z = tf.constant([coord[i] for coord in latent_coords])\n",
    "        img_out = np.squeeze(decoder(z[np.newaxis, ...]).mean().numpy())\n",
    "        line.set_data(z.numpy()[0], z.numpy()[1])\n",
    "        img2.set_data(np.clip(img_out, 0, 1))\n",
    "        return (line, img2)\n",
    "\n",
    "    return anim.FuncAnimation(fig, animate, frames=interpolation_length, \n",
    "                              repeat=False, blit=True, interval=150)"
   ]
  },
  {
   "cell_type": "code",
   "execution_count": null,
   "metadata": {},
   "outputs": [],
   "source": [
    "# Create the animation\n",
    "\n",
    "a = get_animation(latent_size, decoder, interpolation_length=200)\n",
    "HTML(a.to_html5_video())"
   ]
  },
  {
   "cell_type": "code",
   "execution_count": null,
   "metadata": {},
   "outputs": [],
   "source": []
  }
 ],
 "metadata": {
  "kernelspec": {
   "display_name": "Python 3",
   "language": "python",
   "name": "python3"
  },
  "language_info": {
   "codemirror_mode": {
    "name": "ipython",
    "version": 3
   },
   "file_extension": ".py",
   "mimetype": "text/x-python",
   "name": "python",
   "nbconvert_exporter": "python",
   "pygments_lexer": "ipython3",
   "version": "3.6.12"
  }
 },
 "nbformat": 4,
 "nbformat_minor": 2
}
